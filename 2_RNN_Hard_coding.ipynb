{
 "cells": [
  {
   "cell_type": "markdown",
   "metadata": {},
   "source": [
    "# 라이브러리 import"
   ]
  },
  {
   "cell_type": "code",
   "execution_count": 42,
   "metadata": {},
   "outputs": [],
   "source": [
    "import torch.nn as nn\n",
    "import torch\n",
    "import torch.nn.functional as F\n",
    "import numpy as np\n",
    "import pandas as pd\n",
    "import nltk\n",
    "import matplotlib.pyplot as plt\n",
    "\n",
    "from torch.utils.data import DataLoader, Dataset\n",
    "from sklearn.model_selection import train_test_split\n",
    "from sklearn.metrics import mean_squared_error\n",
    "from torch.utils.data import TensorDataset, DataLoader, Subset\n",
    "from tensorflow.keras.utils import pad_sequences\n",
    "\n",
    "from torch.utils.data import TensorDataset, DataLoader, Subset\n",
    "from tqdm import tqdm\n",
    "\n",
    "device = torch.device(\"cuda\" if torch.cuda.is_available() else \"cpu\")\n",
    "\n",
    "\n",
    "tqdm.pandas()"
   ]
  },
  {
   "cell_type": "code",
   "execution_count": 43,
   "metadata": {},
   "outputs": [
    {
     "data": {
      "text/plain": [
       "device(type='cuda')"
      ]
     },
     "execution_count": 43,
     "metadata": {},
     "output_type": "execute_result"
    }
   ],
   "source": [
    "device"
   ]
  },
  {
   "cell_type": "markdown",
   "metadata": {},
   "source": [
    "# Data Load"
   ]
  },
  {
   "cell_type": "markdown",
   "metadata": {},
   "source": [
    "## 내가 만든 데이터"
   ]
  },
  {
   "cell_type": "code",
   "execution_count": 44,
   "metadata": {},
   "outputs": [],
   "source": [
    "import pickle\n",
    "\n",
    "# load\n",
    "with open('ww_dict_final.pickle', 'rb') as f:\n",
    "    ww_dict_final = pickle.load(f)\n",
    "    \n",
    "# load\n",
    "with open('df3_1.pickle', 'rb') as f:\n",
    "    df3_1 = pickle.load(f)"
   ]
  },
  {
   "cell_type": "code",
   "execution_count": 45,
   "metadata": {},
   "outputs": [],
   "source": [
    "df3_1['label_encoded'] = [[j for j in i if j != 2] for i in df3_1['label_encoded']] # UNK 고려 안할 시\n",
    "# df3_1['label_encoded'] = [[j for j in i] for i in df3_1['label_encoded']] "
   ]
  },
  {
   "cell_type": "code",
   "execution_count": 46,
   "metadata": {},
   "outputs": [
    {
     "data": {
      "text/html": [
       "<div>\n",
       "<style scoped>\n",
       "    .dataframe tbody tr th:only-of-type {\n",
       "        vertical-align: middle;\n",
       "    }\n",
       "\n",
       "    .dataframe tbody tr th {\n",
       "        vertical-align: top;\n",
       "    }\n",
       "\n",
       "    .dataframe thead th {\n",
       "        text-align: right;\n",
       "    }\n",
       "</style>\n",
       "<table border=\"1\" class=\"dataframe\">\n",
       "  <thead>\n",
       "    <tr style=\"text-align: right;\">\n",
       "      <th></th>\n",
       "      <th>review</th>\n",
       "      <th>sentiment</th>\n",
       "      <th>label_encoded</th>\n",
       "    </tr>\n",
       "  </thead>\n",
       "  <tbody>\n",
       "    <tr>\n",
       "      <th>0</th>\n",
       "      <td>[One, of, the, other, reviewers, has, mentione...</td>\n",
       "      <td>1</td>\n",
       "      <td>[3, 4, 5, 6, 7, 8, 9, 10, 11, 12, 13, 14, 15, ...</td>\n",
       "    </tr>\n",
       "    <tr>\n",
       "      <th>1</th>\n",
       "      <td>[A, wonderful, little, production., &lt;br, /&gt;&lt;br...</td>\n",
       "      <td>1</td>\n",
       "      <td>[142, 143, 144, 16, 16, 145, 146, 147, 148, 14...</td>\n",
       "    </tr>\n",
       "    <tr>\n",
       "      <th>2</th>\n",
       "      <td>[I, thought, this, was, a, wonderful, way, to,...</td>\n",
       "      <td>1</td>\n",
       "      <td>[205, 12, 20, 142, 206, 207, 208, 209, 210, 21...</td>\n",
       "    </tr>\n",
       "    <tr>\n",
       "      <th>3</th>\n",
       "      <td>[Basically, there's, a, family, where, a, litt...</td>\n",
       "      <td>0</td>\n",
       "      <td>[271, 272, 143, 273, 274, 275, 276, 181, 277, ...</td>\n",
       "    </tr>\n",
       "    <tr>\n",
       "      <th>4</th>\n",
       "      <td>[Petter, Mattei's, \"Love, in, the, Time, of, M...</td>\n",
       "      <td>1</td>\n",
       "      <td>[312, 313, 208, 314, 315, 316, 145, 7, 317, 31...</td>\n",
       "    </tr>\n",
       "    <tr>\n",
       "      <th>...</th>\n",
       "      <td>...</td>\n",
       "      <td>...</td>\n",
       "      <td>...</td>\n",
       "    </tr>\n",
       "    <tr>\n",
       "      <th>49995</th>\n",
       "      <td>[I, thought, this, movie, did, a, down, right,...</td>\n",
       "      <td>1</td>\n",
       "      <td>[205, 12, 281, 11, 370, 1132, 827, 4505, 491, ...</td>\n",
       "    </tr>\n",
       "    <tr>\n",
       "      <th>49996</th>\n",
       "      <td>[Bad, plot,, bad, dialogue,, bad, acting,, idi...</td>\n",
       "      <td>0</td>\n",
       "      <td>[484, 217, 484, 219, 484, 369, 4423, 371, 709,...</td>\n",
       "    </tr>\n",
       "    <tr>\n",
       "      <th>49997</th>\n",
       "      <td>[I, am, a, Catholic, taught, in, parochial, el...</td>\n",
       "      <td>0</td>\n",
       "      <td>[8237, 11335, 8013, 9668, 758, 13272, 11335, 3...</td>\n",
       "    </tr>\n",
       "    <tr>\n",
       "      <th>49998</th>\n",
       "      <td>[I'm, going, to, have, to, disagree, with, the...</td>\n",
       "      <td>0</td>\n",
       "      <td>[743, 27, 7507, 347, 511, 141, 5535, 12, 3, 12...</td>\n",
       "    </tr>\n",
       "    <tr>\n",
       "      <th>49999</th>\n",
       "      <td>[No, one, expects, the, Star, Trek, movies, to...</td>\n",
       "      <td>0</td>\n",
       "      <td>[3, 301, 503, 3941, 281, 62, 2325, 619, 301, 2...</td>\n",
       "    </tr>\n",
       "  </tbody>\n",
       "</table>\n",
       "<p>50000 rows × 3 columns</p>\n",
       "</div>"
      ],
      "text/plain": [
       "                                                  review sentiment  \\\n",
       "0      [One, of, the, other, reviewers, has, mentione...         1   \n",
       "1      [A, wonderful, little, production., <br, /><br...         1   \n",
       "2      [I, thought, this, was, a, wonderful, way, to,...         1   \n",
       "3      [Basically, there's, a, family, where, a, litt...         0   \n",
       "4      [Petter, Mattei's, \"Love, in, the, Time, of, M...         1   \n",
       "...                                                  ...       ...   \n",
       "49995  [I, thought, this, movie, did, a, down, right,...         1   \n",
       "49996  [Bad, plot,, bad, dialogue,, bad, acting,, idi...         0   \n",
       "49997  [I, am, a, Catholic, taught, in, parochial, el...         0   \n",
       "49998  [I'm, going, to, have, to, disagree, with, the...         0   \n",
       "49999  [No, one, expects, the, Star, Trek, movies, to...         0   \n",
       "\n",
       "                                           label_encoded  \n",
       "0      [3, 4, 5, 6, 7, 8, 9, 10, 11, 12, 13, 14, 15, ...  \n",
       "1      [142, 143, 144, 16, 16, 145, 146, 147, 148, 14...  \n",
       "2      [205, 12, 20, 142, 206, 207, 208, 209, 210, 21...  \n",
       "3      [271, 272, 143, 273, 274, 275, 276, 181, 277, ...  \n",
       "4      [312, 313, 208, 314, 315, 316, 145, 7, 317, 31...  \n",
       "...                                                  ...  \n",
       "49995  [205, 12, 281, 11, 370, 1132, 827, 4505, 491, ...  \n",
       "49996  [484, 217, 484, 219, 484, 369, 4423, 371, 709,...  \n",
       "49997  [8237, 11335, 8013, 9668, 758, 13272, 11335, 3...  \n",
       "49998  [743, 27, 7507, 347, 511, 141, 5535, 12, 3, 12...  \n",
       "49999  [3, 301, 503, 3941, 281, 62, 2325, 619, 301, 2...  \n",
       "\n",
       "[50000 rows x 3 columns]"
      ]
     },
     "execution_count": 46,
     "metadata": {},
     "output_type": "execute_result"
    }
   ],
   "source": [
    "df3_1"
   ]
  },
  {
   "cell_type": "markdown",
   "metadata": {},
   "source": [
    "## IMDB 데이터셋"
   ]
  },
  {
   "cell_type": "code",
   "execution_count": 47,
   "metadata": {},
   "outputs": [],
   "source": [
    "# from tensorflow.keras.datasets import imdb"
   ]
  },
  {
   "cell_type": "code",
   "execution_count": 48,
   "metadata": {},
   "outputs": [],
   "source": [
    "# data = imdb.load_data(num_words=15000)\n",
    "# X_data_all = np.concatenate((data[0][0],data[1][0]))\n",
    "# y_data_all = np.concatenate((data[0][1],data[1][1]))"
   ]
  },
  {
   "cell_type": "code",
   "execution_count": 49,
   "metadata": {},
   "outputs": [],
   "source": [
    "# df3_1 = pd.DataFrame([X_data_all, y_data_all]).T\n",
    "# df3_1.columns = ['label_encoded','sentiment']"
   ]
  },
  {
   "cell_type": "code",
   "execution_count": 50,
   "metadata": {},
   "outputs": [
    {
     "data": {
      "text/html": [
       "<div>\n",
       "<style scoped>\n",
       "    .dataframe tbody tr th:only-of-type {\n",
       "        vertical-align: middle;\n",
       "    }\n",
       "\n",
       "    .dataframe tbody tr th {\n",
       "        vertical-align: top;\n",
       "    }\n",
       "\n",
       "    .dataframe thead th {\n",
       "        text-align: right;\n",
       "    }\n",
       "</style>\n",
       "<table border=\"1\" class=\"dataframe\">\n",
       "  <thead>\n",
       "    <tr style=\"text-align: right;\">\n",
       "      <th></th>\n",
       "      <th>review</th>\n",
       "      <th>sentiment</th>\n",
       "      <th>label_encoded</th>\n",
       "    </tr>\n",
       "  </thead>\n",
       "  <tbody>\n",
       "    <tr>\n",
       "      <th>0</th>\n",
       "      <td>[One, of, the, other, reviewers, has, mentione...</td>\n",
       "      <td>1</td>\n",
       "      <td>[3, 4, 5, 6, 7, 8, 9, 10, 11, 12, 13, 14, 15, ...</td>\n",
       "    </tr>\n",
       "    <tr>\n",
       "      <th>1</th>\n",
       "      <td>[A, wonderful, little, production., &lt;br, /&gt;&lt;br...</td>\n",
       "      <td>1</td>\n",
       "      <td>[142, 143, 144, 16, 16, 145, 146, 147, 148, 14...</td>\n",
       "    </tr>\n",
       "    <tr>\n",
       "      <th>2</th>\n",
       "      <td>[I, thought, this, was, a, wonderful, way, to,...</td>\n",
       "      <td>1</td>\n",
       "      <td>[205, 12, 20, 142, 206, 207, 208, 209, 210, 21...</td>\n",
       "    </tr>\n",
       "    <tr>\n",
       "      <th>3</th>\n",
       "      <td>[Basically, there's, a, family, where, a, litt...</td>\n",
       "      <td>0</td>\n",
       "      <td>[271, 272, 143, 273, 274, 275, 276, 181, 277, ...</td>\n",
       "    </tr>\n",
       "    <tr>\n",
       "      <th>4</th>\n",
       "      <td>[Petter, Mattei's, \"Love, in, the, Time, of, M...</td>\n",
       "      <td>1</td>\n",
       "      <td>[312, 313, 208, 314, 315, 316, 145, 7, 317, 31...</td>\n",
       "    </tr>\n",
       "    <tr>\n",
       "      <th>...</th>\n",
       "      <td>...</td>\n",
       "      <td>...</td>\n",
       "      <td>...</td>\n",
       "    </tr>\n",
       "    <tr>\n",
       "      <th>49995</th>\n",
       "      <td>[I, thought, this, movie, did, a, down, right,...</td>\n",
       "      <td>1</td>\n",
       "      <td>[205, 12, 281, 11, 370, 1132, 827, 4505, 491, ...</td>\n",
       "    </tr>\n",
       "    <tr>\n",
       "      <th>49996</th>\n",
       "      <td>[Bad, plot,, bad, dialogue,, bad, acting,, idi...</td>\n",
       "      <td>0</td>\n",
       "      <td>[484, 217, 484, 219, 484, 369, 4423, 371, 709,...</td>\n",
       "    </tr>\n",
       "    <tr>\n",
       "      <th>49997</th>\n",
       "      <td>[I, am, a, Catholic, taught, in, parochial, el...</td>\n",
       "      <td>0</td>\n",
       "      <td>[8237, 11335, 8013, 9668, 758, 13272, 11335, 3...</td>\n",
       "    </tr>\n",
       "    <tr>\n",
       "      <th>49998</th>\n",
       "      <td>[I'm, going, to, have, to, disagree, with, the...</td>\n",
       "      <td>0</td>\n",
       "      <td>[743, 27, 7507, 347, 511, 141, 5535, 12, 3, 12...</td>\n",
       "    </tr>\n",
       "    <tr>\n",
       "      <th>49999</th>\n",
       "      <td>[No, one, expects, the, Star, Trek, movies, to...</td>\n",
       "      <td>0</td>\n",
       "      <td>[3, 301, 503, 3941, 281, 62, 2325, 619, 301, 2...</td>\n",
       "    </tr>\n",
       "  </tbody>\n",
       "</table>\n",
       "<p>50000 rows × 3 columns</p>\n",
       "</div>"
      ],
      "text/plain": [
       "                                                  review sentiment  \\\n",
       "0      [One, of, the, other, reviewers, has, mentione...         1   \n",
       "1      [A, wonderful, little, production., <br, /><br...         1   \n",
       "2      [I, thought, this, was, a, wonderful, way, to,...         1   \n",
       "3      [Basically, there's, a, family, where, a, litt...         0   \n",
       "4      [Petter, Mattei's, \"Love, in, the, Time, of, M...         1   \n",
       "...                                                  ...       ...   \n",
       "49995  [I, thought, this, movie, did, a, down, right,...         1   \n",
       "49996  [Bad, plot,, bad, dialogue,, bad, acting,, idi...         0   \n",
       "49997  [I, am, a, Catholic, taught, in, parochial, el...         0   \n",
       "49998  [I'm, going, to, have, to, disagree, with, the...         0   \n",
       "49999  [No, one, expects, the, Star, Trek, movies, to...         0   \n",
       "\n",
       "                                           label_encoded  \n",
       "0      [3, 4, 5, 6, 7, 8, 9, 10, 11, 12, 13, 14, 15, ...  \n",
       "1      [142, 143, 144, 16, 16, 145, 146, 147, 148, 14...  \n",
       "2      [205, 12, 20, 142, 206, 207, 208, 209, 210, 21...  \n",
       "3      [271, 272, 143, 273, 274, 275, 276, 181, 277, ...  \n",
       "4      [312, 313, 208, 314, 315, 316, 145, 7, 317, 31...  \n",
       "...                                                  ...  \n",
       "49995  [205, 12, 281, 11, 370, 1132, 827, 4505, 491, ...  \n",
       "49996  [484, 217, 484, 219, 484, 369, 4423, 371, 709,...  \n",
       "49997  [8237, 11335, 8013, 9668, 758, 13272, 11335, 3...  \n",
       "49998  [743, 27, 7507, 347, 511, 141, 5535, 12, 3, 12...  \n",
       "49999  [3, 301, 503, 3941, 281, 62, 2325, 619, 301, 2...  \n",
       "\n",
       "[50000 rows x 3 columns]"
      ]
     },
     "execution_count": 50,
     "metadata": {},
     "output_type": "execute_result"
    }
   ],
   "source": [
    "df3_1"
   ]
  },
  {
   "cell_type": "code",
   "execution_count": 51,
   "metadata": {},
   "outputs": [
    {
     "data": {
      "text/plain": [
       "{'whiskers': [<matplotlib.lines.Line2D at 0x2263cc2ccd0>,\n",
       "  <matplotlib.lines.Line2D at 0x2267e2b1390>],\n",
       " 'caps': [<matplotlib.lines.Line2D at 0x2267ec92990>,\n",
       "  <matplotlib.lines.Line2D at 0x2267e2b2b90>],\n",
       " 'boxes': [<matplotlib.lines.Line2D at 0x2263cd04490>],\n",
       " 'medians': [<matplotlib.lines.Line2D at 0x2267e2b36d0>],\n",
       " 'fliers': [<matplotlib.lines.Line2D at 0x2267dc60190>],\n",
       " 'means': []}"
      ]
     },
     "execution_count": 51,
     "metadata": {},
     "output_type": "execute_result"
    },
    {
     "data": {
      "image/png": "[encoded data removed]",
      "text/plain": [
       "<Figure size 640x480 with 1 Axes>"
      ]
     },
     "metadata": {},
     "output_type": "display_data"
    }
   ],
   "source": [
    "plt.boxplot([len(i) for i in df3_1['label_encoded']]) # 500 근처 이상으로는 너무 커서 matplotlib에서 이상치로 인식 (boxplot 바깥에)"
   ]
  },
  {
   "cell_type": "code",
   "execution_count": 52,
   "metadata": {},
   "outputs": [
    {
     "data": {
      "text/plain": [
       "(327.0, 251.0)"
      ]
     },
     "execution_count": 52,
     "metadata": {},
     "output_type": "execute_result"
    }
   ],
   "source": [
    "np.quantile([len(i) for i in df3_1['label_encoded']],0.95) ,np.quantile([len(i) for i in df3_1['label_encoded']],0.90) \n",
    "\n",
    "# 상위 95 %가 590 토큰이니깐 590 토큰 이하로 하자~ (PAD 필요.), 길이 3이하는 어차피 제거할 거니깐. 너무 길게하면 않좋다. \n",
    "# 성능이 안좋게 나오면. 더 줄일 수도..."
   ]
  },
  {
   "cell_type": "code",
   "execution_count": 53,
   "metadata": {},
   "outputs": [
    {
     "data": {
      "text/plain": [
       "(array([3.6332e+04, 1.0200e+04, 2.5160e+03, 8.7600e+02, 6.0000e+01,\n",
       "        6.0000e+00, 6.0000e+00, 0.0000e+00, 3.0000e+00, 1.0000e+00]),\n",
       " array([   2. ,  146.6,  291.2,  435.8,  580.4,  725. ,  869.6, 1014.2,\n",
       "        1158.8, 1303.4, 1448. ]),\n",
       " <BarContainer object of 10 artists>)"
      ]
     },
     "execution_count": 53,
     "metadata": {},
     "output_type": "execute_result"
    },
    {
     "data": {
      "image/png": "[encoded data removed]",
      "text/plain": [
       "<Figure size 640x480 with 1 Axes>"
      ]
     },
     "metadata": {},
     "output_type": "display_data"
    }
   ],
   "source": [
    "plt.hist([len(i) for i in df3_1['label_encoded']]) # 너무 긴 것도 존재... 이 또한 제거해야함 > 일단 상위 5% 제거해보기로 함. (단어길이 3이하인 건 이미 잘랐으니깐 너무 문장길이 줄이면 안될 것 같다. )\n",
    "# 제거가 아니라 그냥 자르자. 데이터 양이 줄어들 수도 있기 때문."
   ]
  },
  {
   "cell_type": "code",
   "execution_count": 54,
   "metadata": {},
   "outputs": [],
   "source": [
    "df3_1['label_encoded'] = [i[:365] for i in df3_1['label_encoded']] # 590 이상의 길이인 경우 그냥 590 글자까지만 보도록 함!"
   ]
  },
  {
   "cell_type": "code",
   "execution_count": 55,
   "metadata": {},
   "outputs": [
    {
     "data": {
      "text/plain": [
       "(array([ 3074., 12672., 13754.,  6956.,  4144.,  2762.,  1884.,  1309.,\n",
       "          970.,  2475.]),\n",
       " array([  2. ,  38.3,  74.6, 110.9, 147.2, 183.5, 219.8, 256.1, 292.4,\n",
       "        328.7, 365. ]),\n",
       " <BarContainer object of 10 artists>)"
      ]
     },
     "execution_count": 55,
     "metadata": {},
     "output_type": "execute_result"
    },
    {
     "data": {
      "image/png": "[encoded data removed]",
      "text/plain": [
       "<Figure size 640x480 with 1 Axes>"
      ]
     },
     "metadata": {},
     "output_type": "display_data"
    }
   ],
   "source": [
    "plt.hist([len(i) for i in df3_1['label_encoded']]) # 자른 후!"
   ]
  },
  {
   "cell_type": "markdown",
   "metadata": {},
   "source": [
    " \n",
    "# DataLoader "
   ]
  },
  {
   "cell_type": "code",
   "execution_count": 56,
   "metadata": {},
   "outputs": [],
   "source": [
    "train_all_idx, test_idx = train_test_split(df3_1.index,test_size = 0.2,\n",
    "                                       random_state = 42, stratify = df3_1['sentiment'])\n",
    "# 8:2 로 train / test split"
   ]
  },
  {
   "cell_type": "code",
   "execution_count": 57,
   "metadata": {},
   "outputs": [],
   "source": [
    "train_idx, val_idx = train_test_split(df3_1.iloc[train_all_idx].index,test_size = 0.25, random_state = 42, stratify = df3_1.iloc[train_all_idx]['sentiment'])\n",
    "# 6 : 2 : 2 로 train / valid / test"
   ]
  },
  {
   "cell_type": "code",
   "execution_count": 58,
   "metadata": {},
   "outputs": [
    {
     "data": {
      "text/plain": [
       "(30000, 10000, 10000)"
      ]
     },
     "execution_count": 58,
     "metadata": {},
     "output_type": "execute_result"
    }
   ],
   "source": [
    "len(train_idx), len(val_idx), len(test_idx) # train, validation, test 의 길이 (6:2:2)"
   ]
  },
  {
   "cell_type": "code",
   "execution_count": 59,
   "metadata": {},
   "outputs": [],
   "source": [
    "# df3_2 = df3_1.iloc[:,1:].copy() # 내가 만든 데이터셋일 시\n",
    "df3_2 = df3_1.iloc[:,:].copy() # IMDB 일 시"
   ]
  },
  {
   "cell_type": "code",
   "execution_count": 60,
   "metadata": {},
   "outputs": [
    {
     "data": {
      "text/plain": [
       "int"
      ]
     },
     "execution_count": 60,
     "metadata": {},
     "output_type": "execute_result"
    }
   ],
   "source": [
    "type(df3_2['label_encoded'][0][0])"
   ]
  },
  {
   "cell_type": "code",
   "execution_count": 61,
   "metadata": {},
   "outputs": [],
   "source": [
    "df3_2['sentiment'] = df3_2['sentiment'].astype(int)"
   ]
  },
  {
   "cell_type": "code",
   "execution_count": 62,
   "metadata": {},
   "outputs": [
    {
     "data": {
      "text/html": [
       "<div>\n",
       "<style scoped>\n",
       "    .dataframe tbody tr th:only-of-type {\n",
       "        vertical-align: middle;\n",
       "    }\n",
       "\n",
       "    .dataframe tbody tr th {\n",
       "        vertical-align: top;\n",
       "    }\n",
       "\n",
       "    .dataframe thead th {\n",
       "        text-align: right;\n",
       "    }\n",
       "</style>\n",
       "<table border=\"1\" class=\"dataframe\">\n",
       "  <thead>\n",
       "    <tr style=\"text-align: right;\">\n",
       "      <th></th>\n",
       "      <th>review</th>\n",
       "      <th>sentiment</th>\n",
       "      <th>label_encoded</th>\n",
       "    </tr>\n",
       "  </thead>\n",
       "  <tbody>\n",
       "    <tr>\n",
       "      <th>0</th>\n",
       "      <td>[One, of, the, other, reviewers, has, mentione...</td>\n",
       "      <td>1</td>\n",
       "      <td>[3, 4, 5, 6, 7, 8, 9, 10, 11, 12, 13, 14, 15, ...</td>\n",
       "    </tr>\n",
       "    <tr>\n",
       "      <th>1</th>\n",
       "      <td>[A, wonderful, little, production., &lt;br, /&gt;&lt;br...</td>\n",
       "      <td>1</td>\n",
       "      <td>[142, 143, 144, 16, 16, 145, 146, 147, 148, 14...</td>\n",
       "    </tr>\n",
       "    <tr>\n",
       "      <th>2</th>\n",
       "      <td>[I, thought, this, was, a, wonderful, way, to,...</td>\n",
       "      <td>1</td>\n",
       "      <td>[205, 12, 20, 142, 206, 207, 208, 209, 210, 21...</td>\n",
       "    </tr>\n",
       "    <tr>\n",
       "      <th>3</th>\n",
       "      <td>[Basically, there's, a, family, where, a, litt...</td>\n",
       "      <td>0</td>\n",
       "      <td>[271, 272, 143, 273, 274, 275, 276, 181, 277, ...</td>\n",
       "    </tr>\n",
       "    <tr>\n",
       "      <th>4</th>\n",
       "      <td>[Petter, Mattei's, \"Love, in, the, Time, of, M...</td>\n",
       "      <td>1</td>\n",
       "      <td>[312, 313, 208, 314, 315, 316, 145, 7, 317, 31...</td>\n",
       "    </tr>\n",
       "    <tr>\n",
       "      <th>...</th>\n",
       "      <td>...</td>\n",
       "      <td>...</td>\n",
       "      <td>...</td>\n",
       "    </tr>\n",
       "    <tr>\n",
       "      <th>49995</th>\n",
       "      <td>[I, thought, this, movie, did, a, down, right,...</td>\n",
       "      <td>1</td>\n",
       "      <td>[205, 12, 281, 11, 370, 1132, 827, 4505, 491, ...</td>\n",
       "    </tr>\n",
       "    <tr>\n",
       "      <th>49996</th>\n",
       "      <td>[Bad, plot,, bad, dialogue,, bad, acting,, idi...</td>\n",
       "      <td>0</td>\n",
       "      <td>[484, 217, 484, 219, 484, 369, 4423, 371, 709,...</td>\n",
       "    </tr>\n",
       "    <tr>\n",
       "      <th>49997</th>\n",
       "      <td>[I, am, a, Catholic, taught, in, parochial, el...</td>\n",
       "      <td>0</td>\n",
       "      <td>[8237, 11335, 8013, 9668, 758, 13272, 11335, 3...</td>\n",
       "    </tr>\n",
       "    <tr>\n",
       "      <th>49998</th>\n",
       "      <td>[I'm, going, to, have, to, disagree, with, the...</td>\n",
       "      <td>0</td>\n",
       "      <td>[743, 27, 7507, 347, 511, 141, 5535, 12, 3, 12...</td>\n",
       "    </tr>\n",
       "    <tr>\n",
       "      <th>49999</th>\n",
       "      <td>[No, one, expects, the, Star, Trek, movies, to...</td>\n",
       "      <td>0</td>\n",
       "      <td>[3, 301, 503, 3941, 281, 62, 2325, 619, 301, 2...</td>\n",
       "    </tr>\n",
       "  </tbody>\n",
       "</table>\n",
       "<p>50000 rows × 3 columns</p>\n",
       "</div>"
      ],
      "text/plain": [
       "                                                  review  sentiment  \\\n",
       "0      [One, of, the, other, reviewers, has, mentione...          1   \n",
       "1      [A, wonderful, little, production., <br, /><br...          1   \n",
       "2      [I, thought, this, was, a, wonderful, way, to,...          1   \n",
       "3      [Basically, there's, a, family, where, a, litt...          0   \n",
       "4      [Petter, Mattei's, \"Love, in, the, Time, of, M...          1   \n",
       "...                                                  ...        ...   \n",
       "49995  [I, thought, this, movie, did, a, down, right,...          1   \n",
       "49996  [Bad, plot,, bad, dialogue,, bad, acting,, idi...          0   \n",
       "49997  [I, am, a, Catholic, taught, in, parochial, el...          0   \n",
       "49998  [I'm, going, to, have, to, disagree, with, the...          0   \n",
       "49999  [No, one, expects, the, Star, Trek, movies, to...          0   \n",
       "\n",
       "                                           label_encoded  \n",
       "0      [3, 4, 5, 6, 7, 8, 9, 10, 11, 12, 13, 14, 15, ...  \n",
       "1      [142, 143, 144, 16, 16, 145, 146, 147, 148, 14...  \n",
       "2      [205, 12, 20, 142, 206, 207, 208, 209, 210, 21...  \n",
       "3      [271, 272, 143, 273, 274, 275, 276, 181, 277, ...  \n",
       "4      [312, 313, 208, 314, 315, 316, 145, 7, 317, 31...  \n",
       "...                                                  ...  \n",
       "49995  [205, 12, 281, 11, 370, 1132, 827, 4505, 491, ...  \n",
       "49996  [484, 217, 484, 219, 484, 369, 4423, 371, 709,...  \n",
       "49997  [8237, 11335, 8013, 9668, 758, 13272, 11335, 3...  \n",
       "49998  [743, 27, 7507, 347, 511, 141, 5535, 12, 3, 12...  \n",
       "49999  [3, 301, 503, 3941, 281, 62, 2325, 619, 301, 2...  \n",
       "\n",
       "[50000 rows x 3 columns]"
      ]
     },
     "execution_count": 62,
     "metadata": {},
     "output_type": "execute_result"
    }
   ],
   "source": [
    "df3_2"
   ]
  },
  {
   "cell_type": "code",
   "execution_count": 63,
   "metadata": {},
   "outputs": [],
   "source": [
    "class RNNDataset(Dataset):\n",
    "    \n",
    "    def __init__(self, data):\n",
    "        self.data = data # 초기 데이터 셋 (전처리 전)\n",
    "        \n",
    "    def __len__(self):    \n",
    "        return len(self.data) # Dataset이 MetaClass 이므로, __len__, __getitem__ 둘 다 있어야 한다.\n",
    "    \n",
    "    def __getitem__(self, idx): # iteration시 선정된 index에 맞게 하나씩 반환되어진다. (세부적으로는 Batch_size 만큼 덩어리로 나와서 계산되어진다;순전파/역전파)\n",
    "        inputs = self.data.iloc[idx]['label_encoded']\n",
    "        output = self.data.iloc[idx]['sentiment']\n",
    "        \n",
    "        # 매 iteration의 batch가 나올 때마다 이 __getitem__이 반복되어진다. 최종적으로 밑의 딕셔너리가 반환된다.\n",
    "        return {\n",
    "            'inputs' : torch.tensor(inputs),\n",
    "            'output' : torch.tensor(output)\n",
    "        }"
   ]
  },
  {
   "cell_type": "code",
   "execution_count": 64,
   "metadata": {},
   "outputs": [
    {
     "data": {
      "text/plain": [
       "array([list([3, 4, 5, 6, 7, 8, 9, 10, 11, 12, 13, 14, 15, 16, 17, 18, 19, 20, 21, 22, 23, 24, 25, 11, 26, 27, 28, 12, 29, 30, 31, 32, 12, 29, 33, 34, 35, 36, 37, 24, 38, 39, 40, 41, 16, 42, 43, 44, 45, 46, 47, 48, 49, 50, 51, 52, 53, 54, 55, 56, 57, 58, 59, 60, 61, 62, 63, 52, 64, 65, 66, 67, 68, 69, 70, 71, 72, 73, 74, 75, 76, 77, 78, 79, 80, 81, 16, 82, 83, 84, 85, 29, 86, 87, 88, 29, 89, 90, 91, 92, 93, 94, 95, 96, 91, 97, 91, 98, 99, 100, 17, 8, 101, 102, 19, 103, 20, 104, 105, 83, 20, 106, 7, 107, 108, 109, 110, 111, 62, 112, 113, 24, 24, 114, 115, 116, 117, 118, 119, 120, 117, 121, 122, 123, 124, 125, 126, 127, 128, 120, 129, 55, 130, 86, 131, 132, 133, 55, 134, 7, 109, 135, 136, 137, 138, 123, 139, 140, 141]),\n",
       "       list([142, 143, 144, 16, 16, 145, 146, 147, 148, 147, 149, 150, 137, 151, 152, 153, 154, 155, 156, 16, 16, 157, 158, 125, 159, 160, 161, 162, 5, 110, 5, 163, 164, 165, 166, 167, 168, 169, 170, 171, 172, 173, 162, 125, 174, 7, 175, 176, 177, 156, 178, 144, 3, 179, 178, 180, 181, 182, 16, 16, 154, 183, 184, 64, 143, 18, 185, 116, 186, 40, 187, 188, 146, 189, 190, 191, 192, 193, 153, 194, 23, 195, 196, 197, 25, 194, 198, 197, 199, 200, 201, 202, 203, 125, 204]),\n",
       "       list([205, 12, 20, 142, 206, 207, 208, 209, 210, 211, 212, 213, 214, 215, 7, 216, 180, 217, 218, 219, 220, 221, 222, 223, 125, 224, 225, 226, 227, 135, 228, 229, 12, 230, 231, 232, 233, 205, 20, 234, 235, 236, 237, 238, 239, 240, 241, 242, 243, 16, 12, 20, 244, 245, 3, 235, 180, 246, 90, 83, 247, 248, 79, 249, 250, 251, 12, 252, 253, 254, 255, 256, 11, 257, 258, 259, 260, 16, 12, 135, 261, 262, 181, 263, 20, 264, 265, 266, 267, 268, 269, 179, 180, 166, 270]),\n",
       "       ...,\n",
       "       list([8237, 11335, 8013, 9668, 758, 13272, 11335, 36037, 2816, 62, 758, 4711, 237, 1591, 8237, 82, 2027, 370, 8237, 2398, 409, 721, 673, 424, 723, 18, 369, 723, 206, 721, 2398, 324, 5500, 16, 435, 11075, 484, 721, 1362, 327, 121, 12, 13272, 764, 1234, 13592, 899, 3040, 24302, 180, 1234, 204, 125, 369, 7627, 4273, 79, 102, 192, 20, 147, 328, 12, 281, 135, 720, 16, 17, 205, 2042, 592, 1013, 17, 711, 1080, 899, 1584, 523, 992, 2946, 816, 4769, 878, 2139, 832, 3786, 6337, 2207, 129, 2052, 298, 393, 5, 2248, 1800, 182, 2781, 1362, 992, 354, 11610, 1655, 182, 2946, 540, 2248, 5349, 2653, 313, 327, 2248, 1441, 5558, 500, 670, 2207, 2054, 12, 928, 434, 13548, 4454, 10942, 68]),\n",
       "       list([743, 27, 7507, 347, 511, 141, 5535, 12, 3, 12, 1473, 1136, 1616, 8131, 2310, 14365, 8106, 567, 1300, 3029, 1497, 334, 5977, 4305, 1845, 674, 1150, 9491, 8530, 208, 82, 297, 187, 5460, 5461, 11507, 415, 131, 145, 13711, 97, 3168, 3169, 371, 2296, 844, 712, 298, 14811, 2800, 4870, 1102, 442, 3141, 3142, 3165, 1469, 864, 150, 8479, 1194, 719, 25, 25639, 2380, 20, 565, 6952, 671, 2359, 2574, 23, 591, 8917, 1099, 1819, 2588, 670, 3134, 957, 103, 1736, 2009, 4331, 2444, 1664, 181, 1081, 11960, 6453, 1049, 297, 4975, 2392, 2243, 3, 3, 393, 12108, 512, 160, 5032, 150, 3, 181, 2231, 18149, 3794, 4527, 177, 12, 367, 20, 4455, 181, 3131, 240, 10125, 6086, 4708, 3619, 552, 407]),\n",
       "       list([3, 301, 503, 3941, 281, 62, 2325, 619, 301, 281, 370, 361, 8, 1135, 12, 281, 5477, 2127, 217, 1319, 4442, 12, 80, 515, 4825, 80, 281, 223, 828, 7, 125, 1100, 221, 1367, 343, 281, 508, 871, 12, 281, 589, 7166, 23, 3964, 3972, 3973, 16, 82, 83, 12, 281, 174, 7786, 1836, 174, 7, 666, 670, 619, 446, 166, 281, 1858, 12, 281, 162, 206, 9, 166, 223, 4514, 5868, 1820, 12, 281])],\n",
       "      dtype=object)"
      ]
     },
     "execution_count": 64,
     "metadata": {},
     "output_type": "execute_result"
    }
   ],
   "source": [
    "df3_2['label_encoded'].values"
   ]
  },
  {
   "cell_type": "code",
   "execution_count": 65,
   "metadata": {},
   "outputs": [],
   "source": [
    "import tensorflow as tf\n",
    "\n",
    "df3_2['label_encoded'] = [i for i in tf.keras.utils.pad_sequences([[int(j) for j in i] for i in df3_2['label_encoded'].values], maxlen = 327, padding = 'post')]"
   ]
  },
  {
   "cell_type": "code",
   "execution_count": 66,
   "metadata": {},
   "outputs": [
    {
     "data": {
      "text/plain": [
       "(327,)"
      ]
     },
     "execution_count": 66,
     "metadata": {},
     "output_type": "execute_result"
    }
   ],
   "source": [
    "df3_2['label_encoded'][0].shape"
   ]
  },
  {
   "cell_type": "code",
   "execution_count": 67,
   "metadata": {},
   "outputs": [
    {
     "data": {
      "text/plain": [
       "array([327])"
      ]
     },
     "execution_count": 67,
     "metadata": {},
     "output_type": "execute_result"
    }
   ],
   "source": [
    "np.unique([len(i) for i in df3_2['label_encoded']])"
   ]
  },
  {
   "cell_type": "code",
   "execution_count": 68,
   "metadata": {},
   "outputs": [],
   "source": [
    "# tf.keras.utils.pad_sequences([[int(j) for j in i] for i in df3_2['label_encoded'].values], maxlen = 119, padding = 'post')"
   ]
  },
  {
   "cell_type": "code",
   "execution_count": 69,
   "metadata": {},
   "outputs": [],
   "source": [
    "# from torch.nn.utils.rnn import pad_sequence\n",
    "\n",
    "# def collate_fn(batch): # batch는 리스트, 각 요소는 __getitem__ 시 반환되는 값들. 위에서 Dataset에서 만들어진 데이터를 DataLoader로 만들어서 학습 시 실제로 이게 적용되면서 학습 코드가 작동되게 한다.\n",
    "\n",
    "#     inputs = [i['inputs'] for i in batch]\n",
    "#     output = torch.tensor([i['output'] for i in batch])\n",
    "#     data_inputs_padded = torch.tensor(pad_sequence(inputs, batch_first = True)).clone().detach()\n",
    "    \n",
    "#     return {\n",
    "#         'inputs' : data_inputs_padded,\n",
    "#         'output' : output\n",
    "#     }"
   ]
  },
  {
   "cell_type": "code",
   "execution_count": 70,
   "metadata": {},
   "outputs": [],
   "source": [
    "train_dataset = RNNDataset(df3_2.iloc[train_idx].reset_index(drop = True))\n",
    "valid_dataset =  RNNDataset(df3_2.iloc[val_idx].reset_index(drop = True))\n",
    "test_dataset = RNNDataset(df3_2.iloc[test_idx].reset_index(drop = True))\n"
   ]
  },
  {
   "cell_type": "code",
   "execution_count": 71,
   "metadata": {},
   "outputs": [],
   "source": [
    "# train_dataloader = DataLoader(train_dataset, batch_size= 128, collate_fn= collate_fn, drop_last= True) \n",
    "# # batch size 길이를 맞춰주기 위해서 마지막 것은 버림, 매 batch당 collate_fn을 적용. (딥러닝 계산시 collate_fn 이 수행되어짐)\n",
    "# valid_dataloader  = DataLoader(valid_dataset, batch_size= 128, collate_fn= collate_fn, drop_last= True) \n",
    "# test_dataloader  = DataLoader(test_dataset, batch_size= 128, collate_fn= collate_fn, drop_last= True) \n",
    "\n",
    "\n",
    "train_dataloader = DataLoader(train_dataset, batch_size= 32, drop_last= True) \n",
    "# batch size 길이를 맞춰주기 위해서 마지막 것은 버림, 매 batch당 collate_fn을 적용. (딥러닝 계산시 collate_fn 이 수행되어짐)\n",
    "valid_dataloader  = DataLoader(valid_dataset, batch_size= 32, drop_last= True) \n",
    "test_dataloader  = DataLoader(test_dataset, batch_size= 32, drop_last= True) "
   ]
  },
  {
   "cell_type": "markdown",
   "metadata": {},
   "source": [
    "# RNN / LSTM Model \n",
    "\n",
    "![google](https://miro.medium.com/v2/resize:fit:720/format:webp/0*oAYZJtdkftXlORC1)\n",
    "![google](https://miro.medium.com/v2/resize:fit:640/format:webp/0*U5GDGJRpMkILFvN2)\n",
    "![google](https://miro.medium.com/v2/resize:fit:720/format:webp/0*5MFMO55h0pG_c8vN)\n",
    "\n",
    "\n",
    "- https://medium.com/dovvie/deep-learning-recurrent-neural-network-rnn-cb6e54a08fe2\n",
    "\n",
    "\n",
    "![google](https://www.researchgate.net/profile/Savvas-Varsamopoulos/publication/329362532/figure/fig5/AS:699592479870977@1543807253596/Structure-of-the-LSTM-cell-and-equations-that-describe-the-gates-of-an-LSTM-cell.jpg)\n",
    "- https://www.researchgate.net/figure/Structure-of-the-LSTM-cell-and-equations-that-describe-the-gates-of-an-LSTM-cell_fig5_329362532\n",
    "- https://medium.com/@divyanshu132/lstm-and-its-equations-5ee9246d04af"
   ]
  },
  {
   "cell_type": "code",
   "execution_count": 72,
   "metadata": {},
   "outputs": [
    {
     "data": {
      "text/plain": [
       "312"
      ]
     },
     "execution_count": 72,
     "metadata": {},
     "output_type": "execute_result"
    }
   ],
   "source": [
    "len(valid_dataloader)"
   ]
  },
  {
   "cell_type": "code",
   "execution_count": 73,
   "metadata": {},
   "outputs": [
    {
     "data": {
      "text/plain": [
       "0        [3, 4, 5, 6, 7, 8, 9, 10, 11, 12, 13, 14, 15, ...\n",
       "1        [142, 143, 144, 16, 16, 145, 146, 147, 148, 14...\n",
       "2        [205, 12, 20, 142, 206, 207, 208, 209, 210, 21...\n",
       "3        [271, 272, 143, 273, 274, 275, 276, 181, 277, ...\n",
       "4        [312, 313, 208, 314, 315, 316, 145, 7, 317, 31...\n",
       "                               ...                        \n",
       "49995    [205, 12, 281, 11, 370, 1132, 827, 4505, 491, ...\n",
       "49996    [484, 217, 484, 219, 484, 369, 4423, 371, 709,...\n",
       "49997    [8237, 11335, 8013, 9668, 758, 13272, 11335, 3...\n",
       "49998    [743, 27, 7507, 347, 511, 141, 5535, 12, 3, 12...\n",
       "49999    [3, 301, 503, 3941, 281, 62, 2325, 619, 301, 2...\n",
       "Name: label_encoded, Length: 50000, dtype: object"
      ]
     },
     "execution_count": 73,
     "metadata": {},
     "output_type": "execute_result"
    }
   ],
   "source": [
    "df3_2['label_encoded'] "
   ]
  },
  {
   "cell_type": "code",
   "execution_count": 74,
   "metadata": {},
   "outputs": [
    {
     "data": {
      "text/plain": [
       "43003"
      ]
     },
     "execution_count": 74,
     "metadata": {},
     "output_type": "execute_result"
    }
   ],
   "source": [
    "len(ww_dict_final.keys())"
   ]
  },
  {
   "cell_type": "code",
   "execution_count": 81,
   "metadata": {},
   "outputs": [],
   "source": [
    "import torch.nn.init as init\n",
    "\n",
    "class RNNModel(nn.Module):\n",
    "    \n",
    "    def __init__(self, multi = False, num_layers = 1 , num_vocab=43003, feature_size = 32, hidden_size = 64, model = 'RNN', batch_size = 32):\n",
    "        \n",
    "        super(RNNModel, self).__init__() # nn.Module에 있는 내용을(__init__의) 상속받음을 명시.\n",
    "        \n",
    "        self.multi = multi\n",
    "        self.model = model\n",
    "        self.num_layers = num_layers\n",
    "        self.num_vocab = num_vocab \n",
    "        self.hidden_size = hidden_size\n",
    "        self.batch_size = batch_size \n",
    "    \n",
    "        self.vocab_embedding = nn.Embedding(num_vocab, feature_size) # hidden_size 만큼 커지게 만듦 (그냥 embedding)\n",
    "        \n",
    "        ## RNN\n",
    "        self.weight_xh = nn.Parameter(torch.Tensor(feature_size, hidden_size))\n",
    "        self.weight_hh = nn.Parameter(torch.Tensor(hidden_size, hidden_size)) # 전의 값이 다음 값에도 가도록 설정.\n",
    "        self.weight_hy = nn.Parameter(torch.Tensor(hidden_size, feature_size)) # 전의 값이 다음 값에도 가도록 설정.\n",
    "        \n",
    "        ## LSTM\n",
    "        self.weight_i = nn.Parameter(torch.Tensor(hidden_size, hidden_size))\n",
    "        self.weight_f = nn.Parameter(torch.Tensor(hidden_size, hidden_size))\n",
    "        self.weight_o = nn.Parameter(torch.Tensor(hidden_size, hidden_size))\n",
    "        self.weight_g = nn.Parameter(torch.Tensor(hidden_size, hidden_size))\n",
    "        \n",
    "        \n",
    "        self.U_i = nn.Parameter(torch.Tensor(feature_size, hidden_size))\n",
    "        self.U_f = nn.Parameter(torch.Tensor(feature_size, hidden_size))\n",
    "        self.U_o = nn.Parameter(torch.Tensor(feature_size, hidden_size))\n",
    "        self.U_g = nn.Parameter(torch.Tensor(feature_size, hidden_size))\n",
    "        \n",
    "        \n",
    "        ## COMMON\n",
    "        self.tanh = nn.Tanh() # 활성화 함수. Gradient vanishing 을 해결하려고 함. \n",
    "        self.sigmoid = nn.Sigmoid()\n",
    "        self.fc1 = nn.Linear(hidden_size, 1)\n",
    "        self.dropout = nn.Dropout(0.3) # 특정 feature에만 활성화되는 것을 막기 위해서 어느정도 dropout을 설정 (사용할지 말지는 선택)\n",
    "        \n",
    "        # 초기값 지정\n",
    "        self.init_params()\n",
    "\n",
    "    # 가중치 초기화. nn.Parameter에 어떻게 적용할지 몰름 > GPT 사용\n",
    "    def init_params(self):\n",
    "        ## 가중치 초기화 함수\n",
    "        def weights_init(m):\n",
    "            if isinstance(m, nn.Linear):\n",
    "                init.xavier_uniform_(m.weight.data)\n",
    "                if m.bias is not None:\n",
    "                    init.constant_(m.bias.data, 0)\n",
    "            elif isinstance(m, nn.Parameter):\n",
    "                init.xavier_uniform_(m.data)\n",
    "\n",
    "        self.apply(weights_init)  # 모델의 모든 가중치를 초기화하는 함수 \n",
    "        \n",
    "    def forward(self, inputs):\n",
    "        \n",
    "        input_size = inputs.size(0)\n",
    "        \n",
    "        if inputs.size(1) >= 257:\n",
    "            x_t = self.vocab_embedding(inputs)\n",
    "        else:\n",
    "            x_t = inputs\n",
    "\n",
    "\n",
    "        \n",
    "\n",
    "        ##### RNN #####\n",
    "        if self.model == 'RNN': \n",
    "            h_t = hidden_state # RNN의 초기 은닉 상태 (초기에는 hidden 값이 없으므로 random 값으로 설정.)\n",
    "            for _ in range(input_size):\n",
    "                if inputs.size(1) >= 257:\n",
    "                    x_t_input = x_t[:, num,: ]\n",
    "                else:\n",
    "                    x_t_input = x_t\n",
    "                \n",
    "                h_t = self.tanh(torch.matmul(self.weight_xh,x_t) + torch.matmul(self.weight_hh,h_t)).permute(0,2,1)\n",
    "                y_t = torch.matmul(self.weight_hy, h_t)                                \n",
    "            \n",
    "            output = h_t[:,-1,:] # (batch_size,  마지막;다대일 이므로 , hidden_size)\n",
    "            output = self.fc1(output)\n",
    "            return output    \n",
    "                            \n",
    "        ##### LSTM ######\n",
    "        \n",
    "        if self.model == 'LSTM':\n",
    "            abc = []\n",
    "            \n",
    "            h_t = torch.zeros(self.hidden_size, self.batch_size).to(device) \n",
    "            C_t = torch.zeros(self.batch_size , self.hidden_size).to(device) \n",
    "            for num in range(input_size):\n",
    "                \n",
    "                if inputs.size(1) >= 257:\n",
    "                    x_t_input = x_t[:,num,:]\n",
    "                else:\n",
    "                    x_t_input = x_t\n",
    "                    \n",
    "                i_t = self.sigmoid(torch.matmul(self.weight_i, h_t).permute(1,0) + torch.matmul(x_t_input , self.U_i))\n",
    "                f_t = self.sigmoid(torch.matmul(self.weight_i, h_t).permute(1,0) + torch.matmul(x_t_input , self.U_f))\n",
    "                o_t = self.sigmoid(torch.matmul(self.weight_i, h_t).permute(1,0) + torch.matmul(x_t_input , self.U_o))\n",
    "                C_t_0 = self.sigmoid(torch.matmul(self.weight_g, h_t).permute(1,0) + torch.matmul(x_t_input , self.U_g))\n",
    "                \n",
    "                C_t = f_t*C_t + i_t*C_t_0 # (input_size, hidden)*(input_size, hidden)  + (input_size, hidden)*(input_size, hidden)\n",
    "                h_t = o_t * self.tanh(C_t)\n",
    "                h_t = self.dropout(h_t)\n",
    "                \n",
    "                h_t = h_t.permute(1,0)\n",
    "                \n",
    "                ### 주의할 점. torch.matmul은 일반적인 행렬곱이라면, self.weight_t는 linear 모듈로서 행렬곱셈 + 편향 둘 다 실행된다.\n",
    "                ## 여기서는 직접 가중치를 조절하기 위해서 nn.Parameter를 사용한다.\n",
    "                \n",
    "                \n",
    "                # i_t = self.sigmoid(self.weight_i(combined)) # (input_size, hidden) + (input_size, hidden)\n",
    "                # f_t = self.sigmoid(self.weight_f(combined)) # (input_size, hidden) + (input_size, hidden)\n",
    "                # o_t = self.sigmoid(self.weight_o(combined)) # (input_size, hidden) + (input_size, hidden)\n",
    "                # C_t_0 = self.tanh(self.weight_g(combined)) # (input_size, hidden) + (input_size, hidden)\n",
    "                # C_t = f_t*C_t + i_t*C_t_0 # (input_size, hidden)*(input_size, hidden)  + (input_size, hidden)*(input_size, hidden)\n",
    "                # h_t = self.tanh(C_t)*o_t\n",
    "                \n",
    "            output = h_t.permute(1,0)\n",
    "            # output = self.fc1(output) # Multilyaer 사용시 주석 처리\n",
    "            \n",
    "            \n",
    "            return output, torch.tensor(h_t.permute(1,0))\n",
    "\n",
    "\n",
    "\n",
    "\n",
    "        \n",
    "## Multi-layer LSTM\n",
    "class MultiLayer(nn.Module):\n",
    "    def __init__(self,  num_layers = 2 , num_vocab=43003, feature_size = 32, hidden_size = 64, model = 'RNN', batch_size = 32):\n",
    "        \n",
    "        super(MultiLayer, self).__init__()\n",
    "        \n",
    "        self.num_layers = num_layers\n",
    "        self.num_vocab = num_vocab\n",
    "        self.feature_size = feature_size\n",
    "        self.hidden_size = hidden_size\n",
    "        self.model = model\n",
    "        self.batch_size = batch_size\n",
    "        self.fc1 = nn.Linear(hidden_size, 1)\n",
    "\n",
    "        # 추가 LSTM 층\n",
    "        # self.lstm1 = RNNModel(multi = True, num_vocab=num_vocab, feature_size = feature_size, hidden_size = hidden_size, model = model, batch_size = batch_size)\n",
    "        self.lstms = nn.ModuleList([RNNModel(multi = True, num_vocab=num_vocab, feature_size = hidden_size, hidden_size = hidden_size, model = model, batch_size = batch_size) \n",
    "                                    for _ in range(num_layers)])\n",
    "\n",
    "        \n",
    "        # self.rnncell_plus = RNNModel(multi = True,num_vocab=num_vocab, feature_size = hidden_size, hidden_size = hidden_size, model = model, batch_size = batch_size)\n",
    "              \n",
    "    def forward(self, inputs):\n",
    "        # output, h_all = self.lstm1(inputs)\n",
    "        for idx, lstm in enumerate(self.lstms):\n",
    "            if idx == 0:\n",
    "                output, h_all = lstm(inputs)\n",
    "            else:\n",
    "                output, h_all = lstm(output)\n",
    "            \n",
    "        output = self.fc1(output)\n",
    "        return output, h_all        \n",
    "    \n"
   ]
  },
  {
   "cell_type": "markdown",
   "metadata": {},
   "source": [
    "# Training"
   ]
  },
  {
   "cell_type": "code",
   "execution_count": 82,
   "metadata": {},
   "outputs": [
    {
     "name": "stderr",
     "output_type": "stream",
     "text": [
      "C:\\Users\\USER\\AppData\\Local\\Temp\\ipykernel_10868\\1916340730.py:5: UserWarning: To copy construct from a tensor, it is recommended to use sourceTensor.clone().detach() or sourceTensor.clone().detach().requires_grad_(True), rather than torch.tensor(sourceTensor).\n",
      "  torch.tensor(inputs.detach().clone()).to(device).shape\n"
     ]
    },
    {
     "data": {
      "text/plain": [
       "torch.Size([32, 327])"
      ]
     },
     "execution_count": 82,
     "metadata": {},
     "output_type": "execute_result"
    }
   ],
   "source": [
    "for batch in train_dataloader:\n",
    "    inputs = batch['inputs']\n",
    "    break\n",
    "\n",
    "torch.tensor(inputs.detach().clone()).to(device).shape"
   ]
  },
  {
   "cell_type": "code",
   "execution_count": 83,
   "metadata": {},
   "outputs": [],
   "source": [
    "RNN_model = MultiLayer(model= 'LSTM', batch_size=32).to(device)"
   ]
  },
  {
   "cell_type": "code",
   "execution_count": 84,
   "metadata": {},
   "outputs": [
    {
     "name": "stderr",
     "output_type": "stream",
     "text": [
      "C:\\Users\\USER\\AppData\\Local\\Temp\\ipykernel_10868\\62189680.py:6: UserWarning: To copy construct from a tensor, it is recommended to use sourceTensor.clone().detach() or sourceTensor.clone().detach().requires_grad_(True), rather than torch.tensor(sourceTensor).\n",
      "  output,_ = RNN_model(torch.tensor(inputs.detach().clone()).to(device))\n",
      "C:\\Users\\USER\\AppData\\Local\\Temp\\ipykernel_10868\\1347977540.py:126: UserWarning: To copy construct from a tensor, it is recommended to use sourceTensor.clone().detach() or sourceTensor.clone().detach().requires_grad_(True), rather than torch.tensor(sourceTensor).\n",
      "  return output, torch.tensor(h_t.permute(1,0))\n"
     ]
    }
   ],
   "source": [
    "RNN_model = MultiLayer(model= 'LSTM', batch_size=32).to(device)\n",
    "\n",
    "for batch in train_dataloader:\n",
    "    inputs = batch['inputs']\n",
    "    \n",
    "    output,_ = RNN_model(torch.tensor(inputs.detach().clone()).to(device))\n",
    "    break"
   ]
  },
  {
   "cell_type": "code",
   "execution_count": 85,
   "metadata": {},
   "outputs": [],
   "source": [
    "device = 'cuda'\n",
    "\n",
    "RNN_model = MultiLayer(model= 'LSTM', batch_size=32).to(device)\n",
    "\n"
   ]
  },
  {
   "cell_type": "code",
   "execution_count": 86,
   "metadata": {},
   "outputs": [],
   "source": [
    "import time\n",
    "from sklearn.metrics import accuracy_score, mean_squared_error\n",
    "from sklearn.metrics import roc_curve, auc\n",
    "import wandb\n",
    "\n",
    "# !wandb login"
   ]
  },
  {
   "cell_type": "markdown",
   "metadata": {},
   "source": [
    "![google](https://blog.kakaocdn.net/dn/bQ934t/btqASyVqeeD/ozNDSKWvAbxiJb7VtgLkSk/img.png)"
   ]
  },
  {
   "cell_type": "code",
   "execution_count": 87,
   "metadata": {},
   "outputs": [],
   "source": [
    "# 손실 함수 및 옵티마이저 정의\n",
    "criterion = nn.BCEWithLogitsLoss()\n",
    "optimizer = torch.optim.Adam(RNN_model.parameters(), lr=0.001)\n",
    "lowest_loss = np.inf\n",
    "losses_lst, valid_losses_lst = [], []"
   ]
  },
  {
   "cell_type": "code",
   "execution_count": 89,
   "metadata": {},
   "outputs": [
    {
     "data": {
      "text/html": [
       "Finishing last run (ID:kk1xs8lv) before initializing another..."
      ],
      "text/plain": [
       "<IPython.core.display.HTML object>"
      ]
     },
     "metadata": {},
     "output_type": "display_data"
    },
    {
     "data": {
      "application/vnd.jupyter.widget-view+json": {
       "model_id": "67dbb3c593e5424c807270f17a97e2c4",
       "version_major": 2,
       "version_minor": 0
      },
      "text/plain": [
       "VBox(children=(Label(value='0.011 MB of 0.019 MB uploaded\\r'), FloatProgress(value=0.5894271785496649, max=1.0…"
      ]
     },
     "metadata": {},
     "output_type": "display_data"
    },
    {
     "data": {
      "text/html": [
       " View run <strong style=\"color:#cdcd00\">dulcet-haze-3</strong> at: <a href='https://wandb.ai/ku_software/Hard_Coding_RNN_LSTM_new_UNK/runs/kk1xs8lv' target=\"_blank\">https://wandb.ai/ku_software/Hard_Coding_RNN_LSTM_new_UNK/runs/kk1xs8lv</a><br/>Synced 5 W&B file(s), 0 media file(s), 0 artifact file(s) and 0 other file(s)"
      ],
      "text/plain": [
       "<IPython.core.display.HTML object>"
      ]
     },
     "metadata": {},
     "output_type": "display_data"
    },
    {
     "data": {
      "text/html": [
       "Find logs at: <code>.\\wandb\\run-20240403_045105-kk1xs8lv\\logs</code>"
      ],
      "text/plain": [
       "<IPython.core.display.HTML object>"
      ]
     },
     "metadata": {},
     "output_type": "display_data"
    },
    {
     "data": {
      "text/html": [
       "Successfully finished last run (ID:kk1xs8lv). Initializing new run:<br/>"
      ],
      "text/plain": [
       "<IPython.core.display.HTML object>"
      ]
     },
     "metadata": {},
     "output_type": "display_data"
    },
    {
     "data": {
      "application/vnd.jupyter.widget-view+json": {
       "model_id": "af20b4e0a2cd470d99573849ee8abdd0",
       "version_major": 2,
       "version_minor": 0
      },
      "text/plain": [
       "VBox(children=(Label(value='Waiting for wandb.init()...\\r'), FloatProgress(value=0.011288888886984852, max=1.0…"
      ]
     },
     "metadata": {},
     "output_type": "display_data"
    },
    {
     "data": {
      "text/html": [
       "wandb version 0.16.5 is available!  To upgrade, please run:\n",
       " $ pip install wandb --upgrade"
      ],
      "text/plain": [
       "<IPython.core.display.HTML object>"
      ]
     },
     "metadata": {},
     "output_type": "display_data"
    },
    {
     "data": {
      "text/html": [
       "Tracking run with wandb version 0.16.1"
      ],
      "text/plain": [
       "<IPython.core.display.HTML object>"
      ]
     },
     "metadata": {},
     "output_type": "display_data"
    },
    {
     "data": {
      "text/html": [
       "Run data is saved locally in <code>c:\\Users\\USER\\Documents\\Jupyter_Notebook\\Graduate_중앙대\\wandb\\run-20240403_045132-r2508ydl</code>"
      ],
      "text/plain": [
       "<IPython.core.display.HTML object>"
      ]
     },
     "metadata": {},
     "output_type": "display_data"
    },
    {
     "data": {
      "text/html": [
       "Syncing run <strong><a href='https://wandb.ai/ku_software/Hard_Coding_RNN_LSTM_new_UNK/runs/r2508ydl' target=\"_blank\">cosmic-glade-4</a></strong> to <a href='https://wandb.ai/ku_software/Hard_Coding_RNN_LSTM_new_UNK' target=\"_blank\">Weights & Biases</a> (<a href='https://wandb.me/run' target=\"_blank\">docs</a>)<br/>"
      ],
      "text/plain": [
       "<IPython.core.display.HTML object>"
      ]
     },
     "metadata": {},
     "output_type": "display_data"
    },
    {
     "data": {
      "text/html": [
       " View project at <a href='https://wandb.ai/ku_software/Hard_Coding_RNN_LSTM_new_UNK' target=\"_blank\">https://wandb.ai/ku_software/Hard_Coding_RNN_LSTM_new_UNK</a>"
      ],
      "text/plain": [
       "<IPython.core.display.HTML object>"
      ]
     },
     "metadata": {},
     "output_type": "display_data"
    },
    {
     "data": {
      "text/html": [
       " View run at <a href='https://wandb.ai/ku_software/Hard_Coding_RNN_LSTM_new_UNK/runs/r2508ydl' target=\"_blank\">https://wandb.ai/ku_software/Hard_Coding_RNN_LSTM_new_UNK/runs/r2508ydl</a>"
      ],
      "text/plain": [
       "<IPython.core.display.HTML object>"
      ]
     },
     "metadata": {},
     "output_type": "display_data"
    },
    {
     "data": {
      "text/html": [
       "<button onClick=\"this.nextSibling.style.display='block';this.style.display='none';\">Display W&B run</button><iframe src='https://wandb.ai/ku_software/Hard_Coding_RNN_LSTM_new_UNK/runs/r2508ydl?jupyter=true' style='border:none;width:100%;height:420px;display:none;'></iframe>"
      ],
      "text/plain": [
       "<wandb.sdk.wandb_run.Run at 0x22686f8e590>"
      ]
     },
     "execution_count": 89,
     "metadata": {},
     "output_type": "execute_result"
    }
   ],
   "source": [
    "wandb.init(\n",
    "    # set the wandb project where this run will be logged\n",
    "    project=\"Hard_Coding_RNN_LSTM_new_UNK\",\n",
    "\n",
    "    # track hyperparameters and run metadata\n",
    "    config={\n",
    "    \"learning_rate\": 0.001,\n",
    "    \"architecture\": \"No_UNK\",\n",
    "    \"optimizer\" : 'Adam',\n",
    "    'loss' : 'BCEWithLogitsLoss'\n",
    "    }\n",
    ")"
   ]
  },
  {
   "cell_type": "code",
   "execution_count": 90,
   "metadata": {},
   "outputs": [
    {
     "name": "stderr",
     "output_type": "stream",
     "text": [
      "  0%|          | 0/937 [00:00<?, ?it/s]C:\\Users\\USER\\AppData\\Local\\Temp\\ipykernel_10868\\1347977540.py:126: UserWarning: To copy construct from a tensor, it is recommended to use sourceTensor.clone().detach() or sourceTensor.clone().detach().requires_grad_(True), rather than torch.tensor(sourceTensor).\n",
      "  return output, torch.tensor(h_t.permute(1,0))\n"
     ]
    },
    {
     "name": "stderr",
     "output_type": "stream",
     "text": [
      "100%|██████████| 937/937 [02:17<00:00,  6.81it/s]\n",
      "100%|██████████| 312/312 [00:14<00:00, 21.96it/s]\n"
     ]
    },
    {
     "name": "stdout",
     "output_type": "stream",
     "text": [
      "Elipsed Time : 137.6177544593811\n",
      "Epoch: 1/1000, Train Loss : 0.6923  Valid Loss: 0.6908,\n",
      "Train_Accuracy: 15324/30000 (51.08%)\n",
      "Valid_Accuracy: 5387/10000 (53.87%)\n",
      " lowest_loss : 0.6907728851223603, lowest_epoch : 0, epoch :0, ROC : 0.5746591851422479\n",
      "\n"
     ]
    },
    {
     "name": "stderr",
     "output_type": "stream",
     "text": [
      "  0%|          | 0/937 [00:00<?, ?it/s]C:\\Users\\USER\\AppData\\Local\\Temp\\ipykernel_10868\\1347977540.py:126: UserWarning: To copy construct from a tensor, it is recommended to use sourceTensor.clone().detach() or sourceTensor.clone().detach().requires_grad_(True), rather than torch.tensor(sourceTensor).\n",
      "  return output, torch.tensor(h_t.permute(1,0))\n",
      "100%|██████████| 937/937 [02:15<00:00,  6.90it/s]\n",
      "100%|██████████| 312/312 [00:15<00:00, 20.54it/s]\n"
     ]
    },
    {
     "name": "stdout",
     "output_type": "stream",
     "text": [
      "Elipsed Time : 135.82919120788574\n",
      "Epoch: 2/1000, Train Loss : 0.5893  Valid Loss: 0.5191,\n",
      "Train_Accuracy: 20584/30000 (68.61%)\n",
      "Valid_Accuracy: 7398/10000 (73.98%)\n",
      " lowest_loss : 0.5191320828520335, lowest_epoch : 1, epoch :1, ROC : 0.823151714552797\n",
      "\n"
     ]
    },
    {
     "name": "stderr",
     "output_type": "stream",
     "text": [
      "  0%|          | 0/937 [00:00<?, ?it/s]C:\\Users\\USER\\AppData\\Local\\Temp\\ipykernel_10868\\1347977540.py:126: UserWarning: To copy construct from a tensor, it is recommended to use sourceTensor.clone().detach() or sourceTensor.clone().detach().requires_grad_(True), rather than torch.tensor(sourceTensor).\n",
      "  return output, torch.tensor(h_t.permute(1,0))\n",
      "100%|██████████| 937/937 [02:12<00:00,  7.05it/s]\n",
      "100%|██████████| 312/312 [00:13<00:00, 22.86it/s]\n"
     ]
    },
    {
     "name": "stdout",
     "output_type": "stream",
     "text": [
      "Elipsed Time : 132.9370195865631\n",
      "Epoch: 3/1000, Train Loss : 0.4540  Valid Loss: 0.4846,\n",
      "Train_Accuracy: 23875/30000 (79.58%)\n",
      "Valid_Accuracy: 7673/10000 (76.73%)\n",
      " lowest_loss : 0.48464477453858423, lowest_epoch : 2, epoch :2, ROC : 0.8523424406567321\n",
      "\n"
     ]
    },
    {
     "name": "stderr",
     "output_type": "stream",
     "text": [
      "  0%|          | 0/937 [00:00<?, ?it/s]C:\\Users\\USER\\AppData\\Local\\Temp\\ipykernel_10868\\1347977540.py:126: UserWarning: To copy construct from a tensor, it is recommended to use sourceTensor.clone().detach() or sourceTensor.clone().detach().requires_grad_(True), rather than torch.tensor(sourceTensor).\n",
      "  return output, torch.tensor(h_t.permute(1,0))\n",
      "100%|██████████| 937/937 [02:19<00:00,  6.74it/s]\n",
      "100%|██████████| 312/312 [00:14<00:00, 20.80it/s]\n"
     ]
    },
    {
     "name": "stdout",
     "output_type": "stream",
     "text": [
      "Elipsed Time : 139.0774166584015\n",
      "Epoch: 4/1000, Train Loss : 0.3848  Valid Loss: 0.4733,\n",
      "Train_Accuracy: 25015/30000 (83.38%)\n",
      "Valid_Accuracy: 7750/10000 (77.50%)\n",
      " lowest_loss : 0.47331609185307455, lowest_epoch : 3, epoch :3, ROC : 0.8616850364094301\n",
      "\n"
     ]
    },
    {
     "name": "stderr",
     "output_type": "stream",
     "text": [
      "  0%|          | 0/937 [00:00<?, ?it/s]C:\\Users\\USER\\AppData\\Local\\Temp\\ipykernel_10868\\1347977540.py:126: UserWarning: To copy construct from a tensor, it is recommended to use sourceTensor.clone().detach() or sourceTensor.clone().detach().requires_grad_(True), rather than torch.tensor(sourceTensor).\n",
      "  return output, torch.tensor(h_t.permute(1,0))\n",
      "100%|██████████| 937/937 [02:17<00:00,  6.80it/s]\n",
      "100%|██████████| 312/312 [00:14<00:00, 22.10it/s]\n"
     ]
    },
    {
     "name": "stdout",
     "output_type": "stream",
     "text": [
      "Elipsed Time : 137.74685144424438\n",
      "Epoch: 5/1000, Train Loss : 0.3338  Valid Loss: 0.4969,\n",
      "Train_Accuracy: 25900/30000 (86.33%)\n",
      "Valid_Accuracy: 7771/10000 (77.71%)\n",
      " lowest_loss : 0.47331609185307455, lowest_epoch : 3, epoch :4, ROC : 0.8621982977164375\n",
      "\n"
     ]
    },
    {
     "name": "stderr",
     "output_type": "stream",
     "text": [
      "  0%|          | 0/937 [00:00<?, ?it/s]C:\\Users\\USER\\AppData\\Local\\Temp\\ipykernel_10868\\1347977540.py:126: UserWarning: To copy construct from a tensor, it is recommended to use sourceTensor.clone().detach() or sourceTensor.clone().detach().requires_grad_(True), rather than torch.tensor(sourceTensor).\n",
      "  return output, torch.tensor(h_t.permute(1,0))\n",
      "100%|██████████| 937/937 [02:18<00:00,  6.79it/s]\n",
      "100%|██████████| 312/312 [00:14<00:00, 20.86it/s]\n"
     ]
    },
    {
     "name": "stdout",
     "output_type": "stream",
     "text": [
      "Elipsed Time : 138.05868101119995\n",
      "Epoch: 6/1000, Train Loss : 0.2890  Valid Loss: 0.5136,\n",
      "Train_Accuracy: 26612/30000 (88.71%)\n",
      "Valid_Accuracy: 7755/10000 (77.55%)\n",
      " lowest_loss : 0.47331609185307455, lowest_epoch : 3, epoch :5, ROC : 0.860621395097242\n",
      "\n"
     ]
    },
    {
     "name": "stderr",
     "output_type": "stream",
     "text": [
      "  0%|          | 0/937 [00:00<?, ?it/s]C:\\Users\\USER\\AppData\\Local\\Temp\\ipykernel_10868\\1347977540.py:126: UserWarning: To copy construct from a tensor, it is recommended to use sourceTensor.clone().detach() or sourceTensor.clone().detach().requires_grad_(True), rather than torch.tensor(sourceTensor).\n",
      "  return output, torch.tensor(h_t.permute(1,0))\n",
      "  9%|▉         | 85/937 [00:13<02:12,  6.44it/s]\n"
     ]
    },
    {
     "ename": "KeyboardInterrupt",
     "evalue": "",
     "output_type": "error",
     "traceback": [
      "\u001b[1;31m---------------------------------------------------------------------------\u001b[0m",
      "\u001b[1;31mKeyboardInterrupt\u001b[0m                         Traceback (most recent call last)",
      "Cell \u001b[1;32mIn[90], line 23\u001b[0m\n\u001b[0;32m     20\u001b[0m output \u001b[38;5;241m=\u001b[39m output\u001b[38;5;241m.\u001b[39mfloat()\n\u001b[0;32m     22\u001b[0m optimizer\u001b[38;5;241m.\u001b[39mzero_grad()\n\u001b[1;32m---> 23\u001b[0m y_hat, _  \u001b[38;5;241m=\u001b[39m \u001b[43mRNN_model\u001b[49m\u001b[43m(\u001b[49m\u001b[43minputs\u001b[49m\u001b[43m)\u001b[49m \u001b[38;5;66;03m# RNN일 경우 y_hat과 h0만.\u001b[39;00m\n\u001b[0;32m     24\u001b[0m loss \u001b[38;5;241m=\u001b[39m criterion(y_hat\u001b[38;5;241m.\u001b[39mreshape(\u001b[38;5;241m-\u001b[39m\u001b[38;5;241m1\u001b[39m), output)\n\u001b[0;32m     26\u001b[0m loss\u001b[38;5;241m.\u001b[39mbackward()\n",
      "File \u001b[1;32md:\\anaconda\\envs\\Pray\\Lib\\site-packages\\torch\\nn\\modules\\module.py:1518\u001b[0m, in \u001b[0;36mModule._wrapped_call_impl\u001b[1;34m(self, *args, **kwargs)\u001b[0m\n\u001b[0;32m   1516\u001b[0m     \u001b[38;5;28;01mreturn\u001b[39;00m \u001b[38;5;28mself\u001b[39m\u001b[38;5;241m.\u001b[39m_compiled_call_impl(\u001b[38;5;241m*\u001b[39margs, \u001b[38;5;241m*\u001b[39m\u001b[38;5;241m*\u001b[39mkwargs)  \u001b[38;5;66;03m# type: ignore[misc]\u001b[39;00m\n\u001b[0;32m   1517\u001b[0m \u001b[38;5;28;01melse\u001b[39;00m:\n\u001b[1;32m-> 1518\u001b[0m     \u001b[38;5;28;01mreturn\u001b[39;00m \u001b[38;5;28;43mself\u001b[39;49m\u001b[38;5;241;43m.\u001b[39;49m\u001b[43m_call_impl\u001b[49m\u001b[43m(\u001b[49m\u001b[38;5;241;43m*\u001b[39;49m\u001b[43margs\u001b[49m\u001b[43m,\u001b[49m\u001b[43m \u001b[49m\u001b[38;5;241;43m*\u001b[39;49m\u001b[38;5;241;43m*\u001b[39;49m\u001b[43mkwargs\u001b[49m\u001b[43m)\u001b[49m\n",
      "File \u001b[1;32md:\\anaconda\\envs\\Pray\\Lib\\site-packages\\torch\\nn\\modules\\module.py:1527\u001b[0m, in \u001b[0;36mModule._call_impl\u001b[1;34m(self, *args, **kwargs)\u001b[0m\n\u001b[0;32m   1522\u001b[0m \u001b[38;5;66;03m# If we don't have any hooks, we want to skip the rest of the logic in\u001b[39;00m\n\u001b[0;32m   1523\u001b[0m \u001b[38;5;66;03m# this function, and just call forward.\u001b[39;00m\n\u001b[0;32m   1524\u001b[0m \u001b[38;5;28;01mif\u001b[39;00m \u001b[38;5;129;01mnot\u001b[39;00m (\u001b[38;5;28mself\u001b[39m\u001b[38;5;241m.\u001b[39m_backward_hooks \u001b[38;5;129;01mor\u001b[39;00m \u001b[38;5;28mself\u001b[39m\u001b[38;5;241m.\u001b[39m_backward_pre_hooks \u001b[38;5;129;01mor\u001b[39;00m \u001b[38;5;28mself\u001b[39m\u001b[38;5;241m.\u001b[39m_forward_hooks \u001b[38;5;129;01mor\u001b[39;00m \u001b[38;5;28mself\u001b[39m\u001b[38;5;241m.\u001b[39m_forward_pre_hooks\n\u001b[0;32m   1525\u001b[0m         \u001b[38;5;129;01mor\u001b[39;00m _global_backward_pre_hooks \u001b[38;5;129;01mor\u001b[39;00m _global_backward_hooks\n\u001b[0;32m   1526\u001b[0m         \u001b[38;5;129;01mor\u001b[39;00m _global_forward_hooks \u001b[38;5;129;01mor\u001b[39;00m _global_forward_pre_hooks):\n\u001b[1;32m-> 1527\u001b[0m     \u001b[38;5;28;01mreturn\u001b[39;00m \u001b[43mforward_call\u001b[49m\u001b[43m(\u001b[49m\u001b[38;5;241;43m*\u001b[39;49m\u001b[43margs\u001b[49m\u001b[43m,\u001b[49m\u001b[43m \u001b[49m\u001b[38;5;241;43m*\u001b[39;49m\u001b[38;5;241;43m*\u001b[39;49m\u001b[43mkwargs\u001b[49m\u001b[43m)\u001b[49m\n\u001b[0;32m   1529\u001b[0m \u001b[38;5;28;01mtry\u001b[39;00m:\n\u001b[0;32m   1530\u001b[0m     result \u001b[38;5;241m=\u001b[39m \u001b[38;5;28;01mNone\u001b[39;00m\n",
      "Cell \u001b[1;32mIn[81], line 158\u001b[0m, in \u001b[0;36mMultiLayer.forward\u001b[1;34m(self, inputs)\u001b[0m\n\u001b[0;32m    156\u001b[0m \u001b[38;5;28;01mfor\u001b[39;00m idx, lstm \u001b[38;5;129;01min\u001b[39;00m \u001b[38;5;28menumerate\u001b[39m(\u001b[38;5;28mself\u001b[39m\u001b[38;5;241m.\u001b[39mlstms):\n\u001b[0;32m    157\u001b[0m     \u001b[38;5;28;01mif\u001b[39;00m idx \u001b[38;5;241m==\u001b[39m \u001b[38;5;241m0\u001b[39m:\n\u001b[1;32m--> 158\u001b[0m         output, h_all \u001b[38;5;241m=\u001b[39m \u001b[43mlstm\u001b[49m\u001b[43m(\u001b[49m\u001b[43minputs\u001b[49m\u001b[43m)\u001b[49m\n\u001b[0;32m    159\u001b[0m     \u001b[38;5;28;01melse\u001b[39;00m:\n\u001b[0;32m    160\u001b[0m         output, h_all \u001b[38;5;241m=\u001b[39m lstm(output)\n",
      "File \u001b[1;32md:\\anaconda\\envs\\Pray\\Lib\\site-packages\\torch\\nn\\modules\\module.py:1518\u001b[0m, in \u001b[0;36mModule._wrapped_call_impl\u001b[1;34m(self, *args, **kwargs)\u001b[0m\n\u001b[0;32m   1516\u001b[0m     \u001b[38;5;28;01mreturn\u001b[39;00m \u001b[38;5;28mself\u001b[39m\u001b[38;5;241m.\u001b[39m_compiled_call_impl(\u001b[38;5;241m*\u001b[39margs, \u001b[38;5;241m*\u001b[39m\u001b[38;5;241m*\u001b[39mkwargs)  \u001b[38;5;66;03m# type: ignore[misc]\u001b[39;00m\n\u001b[0;32m   1517\u001b[0m \u001b[38;5;28;01melse\u001b[39;00m:\n\u001b[1;32m-> 1518\u001b[0m     \u001b[38;5;28;01mreturn\u001b[39;00m \u001b[38;5;28;43mself\u001b[39;49m\u001b[38;5;241;43m.\u001b[39;49m\u001b[43m_call_impl\u001b[49m\u001b[43m(\u001b[49m\u001b[38;5;241;43m*\u001b[39;49m\u001b[43margs\u001b[49m\u001b[43m,\u001b[49m\u001b[43m \u001b[49m\u001b[38;5;241;43m*\u001b[39;49m\u001b[38;5;241;43m*\u001b[39;49m\u001b[43mkwargs\u001b[49m\u001b[43m)\u001b[49m\n",
      "File \u001b[1;32md:\\anaconda\\envs\\Pray\\Lib\\site-packages\\torch\\nn\\modules\\module.py:1527\u001b[0m, in \u001b[0;36mModule._call_impl\u001b[1;34m(self, *args, **kwargs)\u001b[0m\n\u001b[0;32m   1522\u001b[0m \u001b[38;5;66;03m# If we don't have any hooks, we want to skip the rest of the logic in\u001b[39;00m\n\u001b[0;32m   1523\u001b[0m \u001b[38;5;66;03m# this function, and just call forward.\u001b[39;00m\n\u001b[0;32m   1524\u001b[0m \u001b[38;5;28;01mif\u001b[39;00m \u001b[38;5;129;01mnot\u001b[39;00m (\u001b[38;5;28mself\u001b[39m\u001b[38;5;241m.\u001b[39m_backward_hooks \u001b[38;5;129;01mor\u001b[39;00m \u001b[38;5;28mself\u001b[39m\u001b[38;5;241m.\u001b[39m_backward_pre_hooks \u001b[38;5;129;01mor\u001b[39;00m \u001b[38;5;28mself\u001b[39m\u001b[38;5;241m.\u001b[39m_forward_hooks \u001b[38;5;129;01mor\u001b[39;00m \u001b[38;5;28mself\u001b[39m\u001b[38;5;241m.\u001b[39m_forward_pre_hooks\n\u001b[0;32m   1525\u001b[0m         \u001b[38;5;129;01mor\u001b[39;00m _global_backward_pre_hooks \u001b[38;5;129;01mor\u001b[39;00m _global_backward_hooks\n\u001b[0;32m   1526\u001b[0m         \u001b[38;5;129;01mor\u001b[39;00m _global_forward_hooks \u001b[38;5;129;01mor\u001b[39;00m _global_forward_pre_hooks):\n\u001b[1;32m-> 1527\u001b[0m     \u001b[38;5;28;01mreturn\u001b[39;00m \u001b[43mforward_call\u001b[49m\u001b[43m(\u001b[49m\u001b[38;5;241;43m*\u001b[39;49m\u001b[43margs\u001b[49m\u001b[43m,\u001b[49m\u001b[43m \u001b[49m\u001b[38;5;241;43m*\u001b[39;49m\u001b[38;5;241;43m*\u001b[39;49m\u001b[43mkwargs\u001b[49m\u001b[43m)\u001b[49m\n\u001b[0;32m   1529\u001b[0m \u001b[38;5;28;01mtry\u001b[39;00m:\n\u001b[0;32m   1530\u001b[0m     result \u001b[38;5;241m=\u001b[39m \u001b[38;5;28;01mNone\u001b[39;00m\n",
      "Cell \u001b[1;32mIn[81], line 102\u001b[0m, in \u001b[0;36mRNNModel.forward\u001b[1;34m(self, inputs)\u001b[0m\n\u001b[0;32m    100\u001b[0m i_t \u001b[38;5;241m=\u001b[39m \u001b[38;5;28mself\u001b[39m\u001b[38;5;241m.\u001b[39msigmoid(torch\u001b[38;5;241m.\u001b[39mmatmul(\u001b[38;5;28mself\u001b[39m\u001b[38;5;241m.\u001b[39mweight_i, h_t)\u001b[38;5;241m.\u001b[39mpermute(\u001b[38;5;241m1\u001b[39m,\u001b[38;5;241m0\u001b[39m) \u001b[38;5;241m+\u001b[39m torch\u001b[38;5;241m.\u001b[39mmatmul(x_t_input , \u001b[38;5;28mself\u001b[39m\u001b[38;5;241m.\u001b[39mU_i))\n\u001b[0;32m    101\u001b[0m f_t \u001b[38;5;241m=\u001b[39m \u001b[38;5;28mself\u001b[39m\u001b[38;5;241m.\u001b[39msigmoid(torch\u001b[38;5;241m.\u001b[39mmatmul(\u001b[38;5;28mself\u001b[39m\u001b[38;5;241m.\u001b[39mweight_i, h_t)\u001b[38;5;241m.\u001b[39mpermute(\u001b[38;5;241m1\u001b[39m,\u001b[38;5;241m0\u001b[39m) \u001b[38;5;241m+\u001b[39m torch\u001b[38;5;241m.\u001b[39mmatmul(x_t_input , \u001b[38;5;28mself\u001b[39m\u001b[38;5;241m.\u001b[39mU_f))\n\u001b[1;32m--> 102\u001b[0m o_t \u001b[38;5;241m=\u001b[39m \u001b[38;5;28;43mself\u001b[39;49m\u001b[38;5;241;43m.\u001b[39;49m\u001b[43msigmoid\u001b[49m\u001b[43m(\u001b[49m\u001b[43mtorch\u001b[49m\u001b[38;5;241;43m.\u001b[39;49m\u001b[43mmatmul\u001b[49m\u001b[43m(\u001b[49m\u001b[38;5;28;43mself\u001b[39;49m\u001b[38;5;241;43m.\u001b[39;49m\u001b[43mweight_i\u001b[49m\u001b[43m,\u001b[49m\u001b[43m \u001b[49m\u001b[43mh_t\u001b[49m\u001b[43m)\u001b[49m\u001b[38;5;241;43m.\u001b[39;49m\u001b[43mpermute\u001b[49m\u001b[43m(\u001b[49m\u001b[38;5;241;43m1\u001b[39;49m\u001b[43m,\u001b[49m\u001b[38;5;241;43m0\u001b[39;49m\u001b[43m)\u001b[49m\u001b[43m \u001b[49m\u001b[38;5;241;43m+\u001b[39;49m\u001b[43m \u001b[49m\u001b[43mtorch\u001b[49m\u001b[38;5;241;43m.\u001b[39;49m\u001b[43mmatmul\u001b[49m\u001b[43m(\u001b[49m\u001b[43mx_t_input\u001b[49m\u001b[43m \u001b[49m\u001b[43m,\u001b[49m\u001b[43m \u001b[49m\u001b[38;5;28;43mself\u001b[39;49m\u001b[38;5;241;43m.\u001b[39;49m\u001b[43mU_o\u001b[49m\u001b[43m)\u001b[49m\u001b[43m)\u001b[49m\n\u001b[0;32m    103\u001b[0m C_t_0 \u001b[38;5;241m=\u001b[39m \u001b[38;5;28mself\u001b[39m\u001b[38;5;241m.\u001b[39msigmoid(torch\u001b[38;5;241m.\u001b[39mmatmul(\u001b[38;5;28mself\u001b[39m\u001b[38;5;241m.\u001b[39mweight_g, h_t)\u001b[38;5;241m.\u001b[39mpermute(\u001b[38;5;241m1\u001b[39m,\u001b[38;5;241m0\u001b[39m) \u001b[38;5;241m+\u001b[39m torch\u001b[38;5;241m.\u001b[39mmatmul(x_t_input , \u001b[38;5;28mself\u001b[39m\u001b[38;5;241m.\u001b[39mU_g))\n\u001b[0;32m    105\u001b[0m C_t \u001b[38;5;241m=\u001b[39m f_t\u001b[38;5;241m*\u001b[39mC_t \u001b[38;5;241m+\u001b[39m i_t\u001b[38;5;241m*\u001b[39mC_t_0 \u001b[38;5;66;03m# (input_size, hidden)*(input_size, hidden)  + (input_size, hidden)*(input_size, hidden)\u001b[39;00m\n",
      "File \u001b[1;32md:\\anaconda\\envs\\Pray\\Lib\\site-packages\\torch\\nn\\modules\\module.py:1518\u001b[0m, in \u001b[0;36mModule._wrapped_call_impl\u001b[1;34m(self, *args, **kwargs)\u001b[0m\n\u001b[0;32m   1516\u001b[0m     \u001b[38;5;28;01mreturn\u001b[39;00m \u001b[38;5;28mself\u001b[39m\u001b[38;5;241m.\u001b[39m_compiled_call_impl(\u001b[38;5;241m*\u001b[39margs, \u001b[38;5;241m*\u001b[39m\u001b[38;5;241m*\u001b[39mkwargs)  \u001b[38;5;66;03m# type: ignore[misc]\u001b[39;00m\n\u001b[0;32m   1517\u001b[0m \u001b[38;5;28;01melse\u001b[39;00m:\n\u001b[1;32m-> 1518\u001b[0m     \u001b[38;5;28;01mreturn\u001b[39;00m \u001b[38;5;28;43mself\u001b[39;49m\u001b[38;5;241;43m.\u001b[39;49m\u001b[43m_call_impl\u001b[49m\u001b[43m(\u001b[49m\u001b[38;5;241;43m*\u001b[39;49m\u001b[43margs\u001b[49m\u001b[43m,\u001b[49m\u001b[43m \u001b[49m\u001b[38;5;241;43m*\u001b[39;49m\u001b[38;5;241;43m*\u001b[39;49m\u001b[43mkwargs\u001b[49m\u001b[43m)\u001b[49m\n",
      "File \u001b[1;32md:\\anaconda\\envs\\Pray\\Lib\\site-packages\\torch\\nn\\modules\\module.py:1527\u001b[0m, in \u001b[0;36mModule._call_impl\u001b[1;34m(self, *args, **kwargs)\u001b[0m\n\u001b[0;32m   1522\u001b[0m \u001b[38;5;66;03m# If we don't have any hooks, we want to skip the rest of the logic in\u001b[39;00m\n\u001b[0;32m   1523\u001b[0m \u001b[38;5;66;03m# this function, and just call forward.\u001b[39;00m\n\u001b[0;32m   1524\u001b[0m \u001b[38;5;28;01mif\u001b[39;00m \u001b[38;5;129;01mnot\u001b[39;00m (\u001b[38;5;28mself\u001b[39m\u001b[38;5;241m.\u001b[39m_backward_hooks \u001b[38;5;129;01mor\u001b[39;00m \u001b[38;5;28mself\u001b[39m\u001b[38;5;241m.\u001b[39m_backward_pre_hooks \u001b[38;5;129;01mor\u001b[39;00m \u001b[38;5;28mself\u001b[39m\u001b[38;5;241m.\u001b[39m_forward_hooks \u001b[38;5;129;01mor\u001b[39;00m \u001b[38;5;28mself\u001b[39m\u001b[38;5;241m.\u001b[39m_forward_pre_hooks\n\u001b[0;32m   1525\u001b[0m         \u001b[38;5;129;01mor\u001b[39;00m _global_backward_pre_hooks \u001b[38;5;129;01mor\u001b[39;00m _global_backward_hooks\n\u001b[0;32m   1526\u001b[0m         \u001b[38;5;129;01mor\u001b[39;00m _global_forward_hooks \u001b[38;5;129;01mor\u001b[39;00m _global_forward_pre_hooks):\n\u001b[1;32m-> 1527\u001b[0m     \u001b[38;5;28;01mreturn\u001b[39;00m \u001b[43mforward_call\u001b[49m\u001b[43m(\u001b[49m\u001b[38;5;241;43m*\u001b[39;49m\u001b[43margs\u001b[49m\u001b[43m,\u001b[49m\u001b[43m \u001b[49m\u001b[38;5;241;43m*\u001b[39;49m\u001b[38;5;241;43m*\u001b[39;49m\u001b[43mkwargs\u001b[49m\u001b[43m)\u001b[49m\n\u001b[0;32m   1529\u001b[0m \u001b[38;5;28;01mtry\u001b[39;00m:\n\u001b[0;32m   1530\u001b[0m     result \u001b[38;5;241m=\u001b[39m \u001b[38;5;28;01mNone\u001b[39;00m\n",
      "File \u001b[1;32md:\\anaconda\\envs\\Pray\\Lib\\site-packages\\torch\\nn\\modules\\activation.py:292\u001b[0m, in \u001b[0;36mSigmoid.forward\u001b[1;34m(self, input)\u001b[0m\n\u001b[0;32m    291\u001b[0m \u001b[38;5;28;01mdef\u001b[39;00m \u001b[38;5;21mforward\u001b[39m(\u001b[38;5;28mself\u001b[39m, \u001b[38;5;28minput\u001b[39m: Tensor) \u001b[38;5;241m-\u001b[39m\u001b[38;5;241m>\u001b[39m Tensor:\n\u001b[1;32m--> 292\u001b[0m     \u001b[38;5;28;01mreturn\u001b[39;00m \u001b[43mtorch\u001b[49m\u001b[38;5;241;43m.\u001b[39;49m\u001b[43msigmoid\u001b[49m\u001b[43m(\u001b[49m\u001b[38;5;28;43minput\u001b[39;49m\u001b[43m)\u001b[49m\n",
      "\u001b[1;31mKeyboardInterrupt\u001b[0m: "
     ]
    }
   ],
   "source": [
    "from copy import deepcopy\n",
    "from sklearn.metrics import roc_curve, auc\n",
    "from tqdm import tqdm\n",
    "\n",
    "\n",
    "\n",
    "num_epochs = 1000\n",
    "early_stop = 5\n",
    "\n",
    "for epoch in range(num_epochs):\n",
    "    time_part = time.time()\n",
    "    losses = 0\n",
    "    correct_train = 0    \n",
    "\n",
    "    \n",
    "    RNN_model.train()\n",
    "    for batch in tqdm(train_dataloader):\n",
    "        inputs = batch['inputs'].to(device)\n",
    "        output = batch['output'].to(device)\n",
    "        output = output.float()\n",
    "        \n",
    "        optimizer.zero_grad()\n",
    "        y_hat, _  = RNN_model(inputs) # RNN일 경우 y_hat과 h0만.\n",
    "        loss = criterion(y_hat.reshape(-1), output)\n",
    "\n",
    "        loss.backward()\n",
    "        optimizer.step()\n",
    "        \n",
    "        losses += loss.item()\n",
    "\n",
    "        pred = torch.round(torch.sigmoid(y_hat.reshape(-1).detach().clone()))\n",
    "        correct_train += pred.eq(output.detach().clone()).sum().item()\n",
    "        \n",
    "    time_per_epoch = time.time()\n",
    "    losses_lst.append(losses / len(train_dataloader))\n",
    "    \n",
    "    test_loss = 0\n",
    "    correct = 0\n",
    "    wrong_samples, wrong_preds, actual_preds = list(), list(), list()\n",
    "    \n",
    "    \n",
    "    RNN_model.eval()\n",
    "    with torch.no_grad():\n",
    "        valid_losses = 0\n",
    "        y_true, y_pred = [], []\n",
    "        for batch in tqdm(valid_dataloader):\n",
    "            inputs = batch['inputs'].to(device)\n",
    "            output = batch['output'].to(device)\n",
    "            output = output.float()\n",
    "            y_hat, _ = RNN_model(inputs) # RNN일 경우 y_hat과 h0만.\n",
    "\n",
    "            valid_loss = criterion(y_hat.reshape(-1).detach().clone(), output)                \n",
    "            # 모델의 출력에서 확률값을 얻기 위해 sigmoid 함수를 적용해야 함\n",
    "            y_prob = torch.sigmoid(y_hat.detach().clone())\n",
    "\n",
    "            # y_true 및 y_pred 리스트에 값이 추가되어야 함\n",
    "            y_true += list(output.cpu().numpy())\n",
    "            y_pred += list(y_prob.detach().clone().cpu().numpy())\n",
    "\n",
    "            valid_losses += valid_loss.item()\n",
    "            \n",
    "            pred = torch.round(torch.sigmoid(y_hat.detach().clone().reshape(-1)))\n",
    "            correct += pred.eq(output.detach().clone()).sum().item()\n",
    "            \n",
    "        fpr, tpr, thresholds = roc_curve(y_true, y_pred)\n",
    "        roc_auc = auc(fpr, tpr)\n",
    "        valid_losses_lst.append(valid_losses / len(valid_dataloader))\n",
    "\n",
    "\n",
    "\n",
    "    if valid_losses_lst[-1] < lowest_loss:\n",
    "        lowest_loss = valid_losses_lst[-1]\n",
    "        lowest_epoch = epoch\n",
    "        best_RNN_model= deepcopy(RNN_model.state_dict())\n",
    "        torch.save(best_RNN_model, 'RNN_Hard_Coding_LSTM_new_layer_4.pt')\n",
    "        best_fpr, best_tpr, best_thresholds = fpr, tpr, thresholds\n",
    "        \n",
    "    else:\n",
    "        if early_stop > 0 and lowest_epoch + early_stop < epoch:\n",
    "            print (\"Early Stopped\", epoch, \"epochs\")\n",
    "            RNN_model.load_state_dict(best_RNN_model)\n",
    "            break\n",
    "\n",
    "\n",
    "    if (epoch + 1) % 1 == 0:\n",
    "\n",
    "        print(f'Elipsed Time : {time_per_epoch - time_part}')\n",
    "        print(f\"Epoch: {epoch+1}/{num_epochs}, Train Loss : {losses_lst[-1]:.4f}  Valid Loss: {valid_losses_lst[-1]:.4f},\")\n",
    "        print('Train_Accuracy: {}/{} ({:.2f}%)'.format( correct_train, len(train_dataloader.dataset),  100 * correct_train / len(train_dataloader.dataset) ))\n",
    "        print('Valid_Accuracy: {}/{} ({:.2f}%)'.format( correct, len(valid_dataloader.dataset),  100 * correct / len(valid_dataloader.dataset) ))\n",
    "        print(' lowest_loss : {}, lowest_epoch : {}, epoch :{}, ROC : {}'\n",
    "              .format( lowest_loss, lowest_epoch, epoch, roc_auc))   \n",
    "        wandb.log({\"Training loss\" : losses_lst[-1], \"Validation loss\" : valid_losses_lst[-1] ,\"Lowest loss\": lowest_loss,\n",
    "                   'Lowest_epoch' : lowest_epoch, 'epoch' : epoch, 'ROC' : roc_auc,\n",
    "                   \"Train_Accuracy\" : 100 * correct_train / len(train_dataloader.dataset),\n",
    "                   \"Valid_Accuracy\" : 100 * correct / len(valid_dataloader.dataset),\n",
    "                   })\n",
    "        print()\n",
    "\n",
    "\n",
    "# # Calculate false positive rate, true positive rate and thresholds\n",
    "# fpr, tpr, thresholds = roc_curve(y_true, y_pred)\n",
    "\n",
    "# Calculate AUC (Area under the ROC curve)\n",
    "roc_auc = auc(best_fpr, best_tpr)\n",
    "\n",
    "fpr = best_fpr\n",
    "tpr = best_tpr\n",
    "\n",
    "# Plot the ROC curve\n",
    "plt.title('Receiver Operating Characteristic')\n",
    "plt.plot(fpr, tpr, 'b', label = 'AUC = %0.2f' % roc_auc)\n",
    "plt.legend(loc = 'lower right')\n",
    "plt.plot([0, 1], [0, 1],'r--')\n",
    "plt.xlim([0, 1])\n",
    "plt.ylim([0, 1])\n",
    "plt.ylabel('True Positive Rate')\n",
    "plt.xlabel('False Positive Rate')\n",
    "\n",
    "# Find the best threshold\n",
    "best_threshold = thresholds[np.argmax(tpr - fpr)]\n",
    "print(\"Best threshold: \", best_threshold)\n",
    "\n",
    "# Mark the best threshold on the ROC plot\n",
    "plt.scatter(fpr[np.argmax(tpr - fpr)], tpr[np.argmax(tpr - fpr)], color='black', marker='o')\n",
    "plt.annotate(f\"Threshold: {best_threshold:.2f}\", (fpr[np.argmax(tpr - fpr)], tpr[np.argmax(tpr - fpr)]), \n",
    "             textcoords=\"offset points\", xytext=(-15,-10), ha='center', fontsize=8, color='gray')\n",
    "\n",
    "plt.show()\n",
    "    \n",
    "    \n",
    "        "
   ]
  },
  {
   "cell_type": "code",
   "execution_count": 91,
   "metadata": {},
   "outputs": [
    {
     "name": "stdout",
     "output_type": "stream",
     "text": [
      "Best threshold:  0.46669665\n"
     ]
    },
    {
     "data": {
      "image/png": "[encoded data removed]",
      "text/plain": [
       "<Figure size 640x480 with 1 Axes>"
      ]
     },
     "metadata": {},
     "output_type": "display_data"
    }
   ],
   "source": [
    "# # Calculate false positive rate, true positive rate and thresholds\n",
    "# fpr, tpr, thresholds = roc_curve(y_true, y_pred)\n",
    "\n",
    "# Calculate AUC (Area under the ROC curve)\n",
    "roc_auc = auc(best_fpr, best_tpr)\n",
    "\n",
    "fpr = best_fpr\n",
    "tpr = best_tpr\n",
    "\n",
    "# Plot the ROC curve\n",
    "plt.title('Receiver Operating Characteristic')\n",
    "plt.plot(fpr, tpr, 'b', label = 'AUC = %0.2f' % roc_auc)\n",
    "plt.legend(loc = 'lower right')\n",
    "plt.plot([0, 1], [0, 1],'r--')\n",
    "plt.xlim([0, 1])\n",
    "plt.ylim([0, 1])\n",
    "plt.ylabel('True Positive Rate')\n",
    "plt.xlabel('False Positive Rate')\n",
    "\n",
    "# Find the best threshold\n",
    "best_threshold = thresholds[np.argmax(tpr - fpr)]\n",
    "print(\"Best threshold: \", best_threshold)\n",
    "\n",
    "# Mark the best threshold on the ROC plot\n",
    "plt.scatter(fpr[np.argmax(tpr - fpr)], tpr[np.argmax(tpr - fpr)], color='black', marker='o')\n",
    "plt.annotate(f\"Threshold: {best_threshold:.2f}\", (fpr[np.argmax(tpr - fpr)], tpr[np.argmax(tpr - fpr)]), \n",
    "             textcoords=\"offset points\", xytext=(-15,-10), ha='center', fontsize=8, color='gray')\n",
    "\n",
    "plt.show()\n",
    "    "
   ]
  },
  {
   "cell_type": "code",
   "execution_count": 94,
   "metadata": {},
   "outputs": [
    {
     "data": {
      "text/plain": [
       "<All keys matched successfully>"
      ]
     },
     "execution_count": 94,
     "metadata": {},
     "output_type": "execute_result"
    }
   ],
   "source": [
    "RNN_model.load_state_dict(torch.load('RNN_Hard_Coding_LSTM_new_layer_4.pt'))"
   ]
  },
  {
   "cell_type": "code",
   "execution_count": 95,
   "metadata": {},
   "outputs": [
    {
     "name": "stderr",
     "output_type": "stream",
     "text": [
      "  0%|          | 0/312 [00:00<?, ?it/s]C:\\Users\\USER\\AppData\\Local\\Temp\\ipykernel_10868\\1347977540.py:126: UserWarning: To copy construct from a tensor, it is recommended to use sourceTensor.clone().detach() or sourceTensor.clone().detach().requires_grad_(True), rather than torch.tensor(sourceTensor).\n",
      "  return output, torch.tensor(h_t.permute(1,0))\n",
      "100%|██████████| 312/312 [00:14<00:00, 21.26it/s]\n"
     ]
    }
   ],
   "source": [
    "test_correct =0 \n",
    "RNN_model.eval()\n",
    "with torch.no_grad():\n",
    "    test_losses = 0\n",
    "    y_true, y_pred = [], []\n",
    "    for batch in tqdm(test_dataloader):\n",
    "        inputs = batch['inputs'].to(device)\n",
    "        output = batch['output'].to(device)\n",
    "        output = output.float()\n",
    "        y_hat, _ = RNN_model(inputs) # RNN일 경우 y_hat과 h0만.\n",
    "\n",
    "        valid_loss = criterion(y_hat.reshape(-1), output)                \n",
    "        # 모델의 출력에서 확률값을 얻기 위해 sigmoid 함수를 적용해야 함\n",
    "        \n",
    "        y_prob = torch.sigmoid(y_hat)\n",
    "        # y_true 및 y_pred 리스트에 값이 추가되어야 함\n",
    "        y_true += list(output.cpu().numpy())\n",
    "        y_pred += list([0 if i <= 0.47 else 1 for i in y_prob.detach().cpu().numpy()])\n",
    "        \n",
    "        valid_losses += valid_loss.item()\n",
    "        \n",
    "        pred = torch.tensor([1 if i >= 0.47 else 0 for i in y_hat.detach().cpu().numpy()])\n",
    "        test_correct += pred.eq(output.detach().cpu()).sum().item()\n"
   ]
  },
  {
   "cell_type": "code",
   "execution_count": 102,
   "metadata": {},
   "outputs": [
    {
     "name": "stdout",
     "output_type": "stream",
     "text": [
      "최종 test_data 에 대한 정확도 : 77.34%\n"
     ]
    }
   ],
   "source": [
    "print(f'최종 test_data 에 대한 정확도 : {100 * test_correct / len(test_dataloader.dataset)}%')"
   ]
  },
  {
   "cell_type": "code",
   "execution_count": null,
   "metadata": {},
   "outputs": [],
   "source": []
  },
  {
   "cell_type": "code",
   "execution_count": 103,
   "metadata": {},
   "outputs": [
    {
     "data": {
      "image/png": "[encoded data removed]",
      "text/plain": [
       "<Figure size 640x480 with 2 Axes>"
      ]
     },
     "metadata": {},
     "output_type": "display_data"
    }
   ],
   "source": [
    "from sklearn.metrics import confusion_matrix\n",
    "import seaborn as sns\n",
    "\n",
    "## 혼동행렬\n",
    "cm = confusion_matrix(y_true, y_pred)\n",
    "sns.heatmap(cm, annot=True, cmap='Blues', fmt='.0f')\n",
    "plt.xlabel('Predicted')\n",
    "plt.ylabel('True')\n",
    "plt.show()\n"
   ]
  },
  {
   "cell_type": "markdown",
   "metadata": {},
   "source": [
    "# 문제점\n",
    "\n",
    "1) 내가 만든 Tokenizer는 너무 token 수가 많아 보인다. > Token 수를 줄일 수는 없을까 > FastText tokenizer 등등\n",
    "- 하다보니 내가 만든 것이 더 나아보인다.\n",
    "2) 성능이 그다지 좋아보이지 않는다 > 뭔가 잘못되었다. > 모델 구성이나 학습에는 상관 x but token 수에 정말 많은 영향을 끼치는 것 같다.\n",
    "- 처음 Tokenize 시에 많이 성능이 갈린다."
   ]
  },
  {
   "cell_type": "code",
   "execution_count": 2,
   "metadata": {},
   "outputs": [
    {
     "ename": "NameError",
     "evalue": "name 'valid_dataloader' is not defined",
     "output_type": "error",
     "traceback": [
      "\u001b[1;31m---------------------------------------------------------------------------\u001b[0m",
      "\u001b[1;31mNameError\u001b[0m                                 Traceback (most recent call last)",
      "Cell \u001b[1;32mIn[2], line 1\u001b[0m\n\u001b[1;32m----> 1\u001b[0m \u001b[38;5;28mlen\u001b[39m(\u001b[43mvalid_dataloader\u001b[49m), \u001b[38;5;28mlen\u001b[39m(train_dataloader)\n",
      "\u001b[1;31mNameError\u001b[0m: name 'valid_dataloader' is not defined"
     ]
    }
   ],
   "source": [
    "len(valid_dataloader), len(train_dataloader)"
   ]
  },
  {
   "cell_type": "code",
   "execution_count": null,
   "metadata": {},
   "outputs": [],
   "source": [
    "pred.reshape(-1)"
   ]
  },
  {
   "cell_type": "code",
   "execution_count": null,
   "metadata": {},
   "outputs": [],
   "source": [
    "RNN_model(inputs).shape"
   ]
  },
  {
   "attachments": {
    "image.png": {
     "image/png": "[encoded data removed]"
    }
   },
   "cell_type": "markdown",
   "metadata": {},
   "source": [
    "![image.png](attachment:image.png)\n",
    "![](2024-04-03-12-48-07.png)"
   ]
  },
  {
   "cell_type": "markdown",
   "metadata": {},
   "source": [
    "# Conclusion"
   ]
  },
  {
   "cell_type": "markdown",
   "metadata": {},
   "source": []
  },
  {
   "cell_type": "markdown",
   "metadata": {},
   "source": []
  },
  {
   "cell_type": "markdown",
   "metadata": {},
   "source": [
    "# 부족한 부분\n",
    "\n",
    "- Singular mtx.\n",
    "- Cross Entropy Loss / BCE Loss\n",
    "- tanh 를 하필이면 왜 사용하는가? Gradient Vanishing 문제를 해결하려면 그냥 ReLU 사용하면 되지 않나?\n",
    "    - tanh, sigmoid, ReLU 공부 필요\n",
    "- Optimizer (Adam, SGD, GD 등등 공부 필요; 일부분은 앎)"
   ]
  },
  {
   "cell_type": "markdown",
   "metadata": {},
   "source": []
  }
 ],
 "metadata": {
  "kernelspec": {
   "display_name": "Pray",
   "language": "python",
   "name": "python3"
  },
  "language_info": {
   "codemirror_mode": {
    "name": "ipython",
    "version": 3
   },
   "file_extension": ".py",
   "mimetype": "text/x-python",
   "name": "python",
   "nbconvert_exporter": "python",
   "pygments_lexer": "ipython3",
   "version": "3.11.4"
  }
 },
 "nbformat": 4,
 "nbformat_minor": 2
}
